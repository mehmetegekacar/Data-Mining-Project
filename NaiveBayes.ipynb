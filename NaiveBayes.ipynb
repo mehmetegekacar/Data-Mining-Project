{
 "cells": [
  {
   "cell_type": "code",
   "execution_count": 1,
   "metadata": {},
   "outputs": [],
   "source": [
    "import pandas as pd\n",
    "import numpy as np\n",
    "import matplotlib.pyplot as plt\n",
    "import string\n",
    "from nltk.corpus import stopwords\n",
    "from sklearn.feature_extraction.text import TfidfVectorizer\n",
    "from sklearn.model_selection import train_test_split\n",
    "from sklearn.decomposition import PCA\n",
    "from sklearn.preprocessing import StandardScaler\n",
    "from sklearn.metrics import confusion_matrix\n",
    "from sklearn.compose import ColumnTransformer\n",
    "from sklearn.pipeline import Pipeline\n",
    "from sklearn.naive_bayes import MultinomialNB\n",
    "from sklearn.preprocessing import StandardScaler, MinMaxScaler\n",
    "from sklearn.model_selection import ParameterGrid\n",
    "from sklearn.linear_model import SGDClassifier\n",
    "from sklearn.model_selection import KFold\n",
    "from sklearn.model_selection import GridSearchCV\n",
    "from joblib import Parallel, parallel_backend\n",
    "from sklearn.metrics import accuracy_score, roc_auc_score, precision_score, recall_score, f1_score\n",
    "from itertools import product\n",
    "import seaborn as sns\n",
    "from sklearn.metrics import roc_curve, auc\n",
    "from sklearn.feature_extraction.text import CountVectorizer, TfidfTransformer"
   ]
  },
  {
   "attachments": {},
   "cell_type": "markdown",
   "metadata": {},
   "source": [
    "### We are defining some functions for preprocessing, cleaning and data structuring purposes"
   ]
  },
  {
   "cell_type": "code",
   "execution_count": 2,
   "metadata": {},
   "outputs": [],
   "source": [
    "def clean_text(text):\n",
    "    ''' \n",
    "    Some basic text cleaning phases this function should be applied to the text column\n",
    "    of the data\n",
    "    '''\n",
    "    # lower text\n",
    "    text = text.lower()\n",
    "    # tokenize text and remove puncutation\n",
    "    text = [word.strip(string.punctuation) for word in text.split(\" \")]\n",
    "    # remove words that contain numbers\n",
    "    text = [word for word in text if not any(c.isdigit() for c in word)]\n",
    "    # remove stop words\n",
    "    stop = set(stopwords.words('english'))\n",
    "    stop = [w for w in stop if w not in ['not', 'no']]\n",
    "    text = [x for x in text if (x not in stop)]\n",
    "    # remove empty tokens\n",
    "    text = [t for t in text if len(t) > 0]\n",
    "    # remove words with only one letter\n",
    "    text = [t for t in text if len(t) > 1]\n",
    "    # join all\n",
    "    text = \" \".join(text)\n",
    "    # tokenize the text\n",
    "    #text = text.split()\n",
    "    return(text)\n",
    "def apply_cleaning(X_train):\n",
    "    '''\n",
    "    With this fonction we apply the clean_text function to the text column of the data\n",
    "    and it gives as output the cleaned data for each row of the text column\n",
    "    '''\n",
    "    X_train = X_train.apply(lambda x: clean_text(x))\n",
    "    return(X_train)\n",
    "\n",
    "def tfidf_featured_data(X_train):\n",
    "    ''''\n",
    "    No need to explain this function because we gonna use it in the pipeline automatically this function\n",
    "    used to add tf-idfs columns to the data but I used this to play around with the data and see the\n",
    "    results of the tfidf vectorizer\n",
    "    '''\n",
    "\n",
    "    X_train = apply_cleaning(X_train)\n",
    "    # add tf-idfs columns\n",
    "    tfidf = TfidfVectorizer(min_df = 30)\n",
    "    tfidf_result = tfidf.fit_transform(X_train).toarray()\n",
    "    tfidf_df = pd.DataFrame(tfidf_result, columns = tfidf.get_feature_names_out())\n",
    "    tfidf_df.columns = [\"word_\" + str(x) for x in tfidf_df.columns]\n",
    "    tfidf_df.index = X_train.index\n",
    "    X_train = pd.concat([X_train, tfidf_df], axis=1)\n",
    "    X_train.drop(columns = ['sentences'], inplace = True)\n",
    "    \n",
    "    return X_train\n",
    "\n",
    "def dict2text(dicti):\n",
    "    '''\n",
    "    This function is used to convert the dictionary of parameters to a string\n",
    "    used for GridsearchCV outputs to be saved in a csv file and to be used later \n",
    "    on project.\n",
    "    '''\n",
    "    text = ''\n",
    "    for key, value in dicti.items():\n",
    "        text += str(key) + '=' + str(value) + ' '\n",
    "    return text\n",
    "\n",
    "def format_params(params_str):\n",
    "    '''\n",
    "    I captured some differences between the parameters of the GridsearchCV output\n",
    "    to standardize it and make it easy to be used later on the project.\n",
    "    '''\n",
    "    # Remove the opening and closing braces and quotes\n",
    "    params_str = params_str.replace(\"{\", \"\").replace(\"}\", \"\").replace(\"'\", \"\")\n",
    "\n",
    "    # Replace commas with spaces\n",
    "    params_str = params_str.replace(\", \", \" \")\n",
    "\n",
    "    # Replace colons with equals signs\n",
    "    params_str = params_str.replace(\":\", \"=\")\n",
    "\n",
    "    # Remove spaces around equals signs\n",
    "    params_str = params_str.replace(\"= \", \"=\").replace(\" =\", \"=\")\n",
    "\n",
    "    return params_str\n",
    "\n",
    "def evaluate_roc(probs, y_true):\n",
    "    \"\"\"\n",
    "    - Print AUC and accuracy on the test set\n",
    "    - Plot ROC\n",
    "    @params    probs (np.array): an array of predicted probabilities with shape (len(y_true), 2)\n",
    "    @params    y_true (np.array): an array of the true values with shape (len(y_true),)\n",
    "    \"\"\"\n",
    "    preds = probs[:, 1]\n",
    "    fpr, tpr, threshold = roc_curve(y_true, preds)\n",
    "    roc_auc = auc(fpr, tpr)\n",
    "    print(f'AUC: {roc_auc:.4f}')\n",
    "       \n",
    "    # Get accuracy over the test set\n",
    "    y_pred = np.where(preds >= 0.5, 1, 0)\n",
    "    accuracy = accuracy_score(y_true, y_pred)\n",
    "    print(f'Accuracy: {accuracy*100:.2f}%')\n",
    "    \n",
    "    # Plot ROC AUC\n",
    "    plt.title('Receiver Operating Characteristic')\n",
    "    plt.plot(fpr, tpr, 'b', label = 'AUC = %0.2f' % roc_auc)\n",
    "    plt.legend(loc = 'lower right')\n",
    "    plt.plot([0, 1], [0, 1],'r--')\n",
    "    plt.xlim([0, 1])\n",
    "    plt.ylim([0, 1])\n",
    "    plt.ylabel('True Positive Rate')\n",
    "    plt.xlabel('False Positive Rate')\n",
    "    plt.show()\n",
    "\n",
    "def roc_auc(test, y_pred):\n",
    "    # Assuming y_true contains the true labels (0 or 1) and y_pred contains the predicted probabilities for the positive class\n",
    "    fpr, tpr, thresholds = roc_curve(test.values, y_pred)\n",
    "    roc_auc = auc(fpr, tpr)\n",
    "\n",
    "    # Plotting the ROC curve\n",
    "    plt.plot(fpr, tpr, label='ROC curve (AUC = %0.2f)' % roc_auc)\n",
    "    plt.plot([0, 1], [0, 1], 'k--')  # Random guess line\n",
    "    plt.xlabel('False Positive Rate')\n",
    "    plt.ylabel('True Positive Rate')\n",
    "    plt.title('Receiver Operating Characteristic')\n",
    "    plt.legend(loc='lower right')\n",
    "    plt.show()"
   ]
  },
  {
   "attachments": {},
   "cell_type": "markdown",
   "metadata": {},
   "source": [
    "##### As a baseline model Naive Bayes is the perfect model. It is time efficient and good performing. Also there are not much parameters to play around so we are able to focus on feature creation phase. "
   ]
  },
  {
   "cell_type": "code",
   "execution_count": 4,
   "metadata": {},
   "outputs": [],
   "source": [
    "train = pd.read_csv('train_data_400k_randomsample.csv')\n",
    "train[\"sentences\"] = apply_cleaning(train[\"sentences\"])"
   ]
  },
  {
   "cell_type": "code",
   "execution_count": 1,
   "metadata": {},
   "outputs": [
    {
     "ename": "NameError",
     "evalue": "name 'train' is not defined",
     "output_type": "error",
     "traceback": [
      "\u001b[0;31m---------------------------------------------------------------------------\u001b[0m",
      "\u001b[0;31mNameError\u001b[0m                                 Traceback (most recent call last)",
      "\u001b[1;32m/home/ege/datamining1/Amazon Reviews/NaiveBayes.ipynb Cell 6\u001b[0m in \u001b[0;36m1\n\u001b[0;32m----> <a href='vscode-notebook-cell://wsl%2Bubuntu-22.04/home/ege/datamining1/Amazon%20Reviews/NaiveBayes.ipynb#W5sdnNjb2RlLXJlbW90ZQ%3D%3D?line=0'>1</a>\u001b[0m X_test \u001b[39m=\u001b[39m train[\u001b[39m\"\u001b[39m\u001b[39msentences\u001b[39m\u001b[39m\"\u001b[39m]\n\u001b[1;32m      <a href='vscode-notebook-cell://wsl%2Bubuntu-22.04/home/ege/datamining1/Amazon%20Reviews/NaiveBayes.ipynb#W5sdnNjb2RlLXJlbW90ZQ%3D%3D?line=1'>2</a>\u001b[0m \u001b[39m# Create the Naive Bayes pipeline\u001b[39;00m\n\u001b[1;32m      <a href='vscode-notebook-cell://wsl%2Bubuntu-22.04/home/ege/datamining1/Amazon%20Reviews/NaiveBayes.ipynb#W5sdnNjb2RlLXJlbW90ZQ%3D%3D?line=2'>3</a>\u001b[0m pipeline \u001b[39m=\u001b[39m Pipeline([\n\u001b[1;32m      <a href='vscode-notebook-cell://wsl%2Bubuntu-22.04/home/ege/datamining1/Amazon%20Reviews/NaiveBayes.ipynb#W5sdnNjb2RlLXJlbW90ZQ%3D%3D?line=3'>4</a>\u001b[0m     (\u001b[39m'\u001b[39m\u001b[39mvectorizer\u001b[39m\u001b[39m'\u001b[39m, CountVectorizer()),\n\u001b[1;32m      <a href='vscode-notebook-cell://wsl%2Bubuntu-22.04/home/ege/datamining1/Amazon%20Reviews/NaiveBayes.ipynb#W5sdnNjb2RlLXJlbW90ZQ%3D%3D?line=4'>5</a>\u001b[0m     (\u001b[39m'\u001b[39m\u001b[39mtfidf\u001b[39m\u001b[39m'\u001b[39m, TfidfTransformer()),\n\u001b[1;32m      <a href='vscode-notebook-cell://wsl%2Bubuntu-22.04/home/ege/datamining1/Amazon%20Reviews/NaiveBayes.ipynb#W5sdnNjb2RlLXJlbW90ZQ%3D%3D?line=5'>6</a>\u001b[0m     (\u001b[39m'\u001b[39m\u001b[39mclassifier\u001b[39m\u001b[39m'\u001b[39m, MultinomialNB())\n\u001b[1;32m      <a href='vscode-notebook-cell://wsl%2Bubuntu-22.04/home/ege/datamining1/Amazon%20Reviews/NaiveBayes.ipynb#W5sdnNjb2RlLXJlbW90ZQ%3D%3D?line=6'>7</a>\u001b[0m ])\n",
      "\u001b[0;31mNameError\u001b[0m: name 'train' is not defined"
     ]
    }
   ],
   "source": [
    "X_train = train[\"sentences\"]\n",
    "y_train = train[\"label\"]\n",
    "\n",
    "# Create the Naive Bayes pipeline\n",
    "pipeline = Pipeline([\n",
    "    ('vectorizer', CountVectorizer()),\n",
    "    ('tfidf', TfidfTransformer()),\n",
    "    ('classifier', MultinomialNB())\n",
    "])\n",
    "\n",
    "\n",
    "param_grid = {\n",
    "    'vectorizer__ngram_range': [(1, 1), (1, 2)],  # Vary the n-gram range\n",
    "    'tfidf__use_idf': [True, False],  # Vary the use of IDF\n",
    "    'classifier__alpha': [0.1, 1.0, 10.0] # Vary the smoothing parameter (alpha)\n",
    "}\n",
    "\n",
    "\n",
    "# Split the current slice into train and test sets\n",
    "    \n",
    "# Create a GridSearchCV object for each pipeline\n",
    "grid_search= GridSearchCV(pipeline, param_grid, cv=3, verbose=3)\n",
    "\n",
    "\n",
    "# Fit the GridSearchCV object on the training data\n",
    "grid_search.fit(X_train, y_train)\n",
    "\n",
    "# Predict the labels for the test set\n",
    "y_pred = grid_search.predict(X_test)\n",
    "\n",
    "# Calculate the accuracy score for the current slice\n",
    "score = accuracy_score(y_test, y_pred)\n",
    "\n",
    "# Print the accuracy score and best hyperparameters for the current slice\n",
    "print(\"Accuracy score: \", score)\n",
    "print(\"Best hyperparameters: \", grid_search.best_params_)\n",
    "print(\"Best accuracy score: \", grid_search.best_score_)"
   ]
  },
  {
   "cell_type": "code",
   "execution_count": 17,
   "metadata": {},
   "outputs": [
    {
     "data": {
      "text/plain": [
       "{'classifier__alpha': 0.1,\n",
       " 'tfidf__use_idf': False,\n",
       " 'vectorizer__ngram_range': (1, 2)}"
      ]
     },
     "execution_count": 17,
     "metadata": {},
     "output_type": "execute_result"
    }
   ],
   "source": [
    "grid_search.best_params_"
   ]
  },
  {
   "attachments": {},
   "cell_type": "markdown",
   "metadata": {},
   "source": [
    "#### After selecting the best parameters our model with 400k train data and 44k test data being evaluated. And confusion matrix has been produced. "
   ]
  },
  {
   "cell_type": "code",
   "execution_count": 3,
   "metadata": {},
   "outputs": [],
   "source": [
    "train = pd.read_csv(\"train_data_400k_randomsample.csv\")\n",
    "train[\"sentences\"] = apply_cleaning(train[\"sentences\"])\n",
    "test = pd.read_csv((\"test_data_44k.csv\"))\n",
    "test[\"sentences\"] = apply_cleaning(test[\"sentences\"])"
   ]
  },
  {
   "cell_type": "code",
   "execution_count": 4,
   "metadata": {},
   "outputs": [
    {
     "name": "stdout",
     "output_type": "stream",
     "text": [
      "Accuracy score:  0.8935454545454545\n",
      "F1 score:  0.8921035658343315\n",
      "ROC AUC score:  0.893519276949668\n",
      "Precision score:  0.9022037925732657\n",
      "Recall score:  0.8822269807280514\n"
     ]
    }
   ],
   "source": [
    "pipeline = Pipeline([\n",
    "    ('vectorizer', CountVectorizer(ngram_range=(1, 2))),\n",
    "    ('tfidf', TfidfTransformer(use_idf=False)),\n",
    "    ('classifier', MultinomialNB(alpha=0.1,))\n",
    "])\n",
    "\n",
    "pipeline.fit(train[\"sentences\"], train[\"labels\"])\n",
    "\n",
    "y_pred = pipeline.predict(test[\"sentences\"])\n",
    "pd.DataFrame(y_pred).to_csv(\"y_pred_tf-idf-NaiveBayes.csv\")\n",
    "\n",
    "accuracy_score = accuracy_score(test[\"labels\"], y_pred)\n",
    "f1_score = f1_score(test[\"labels\"], y_pred)\n",
    "roc_auc_score = roc_auc_score(test[\"labels\"], y_pred)\n",
    "precision_score = precision_score(test[\"labels\"], y_pred)\n",
    "recall_score = recall_score(test[\"labels\"], y_pred)\n",
    "\n",
    "print(\"Accuracy score: \", accuracy_score)\n",
    "print(\"F1 score: \", f1_score)\n",
    "print(\"ROC AUC score: \", roc_auc_score)\n",
    "print(\"Precision score: \", precision_score)\n",
    "print(\"Recall score: \", recall_score)\n"
   ]
  },
  {
   "cell_type": "code",
   "execution_count": 5,
   "metadata": {},
   "outputs": [
    {
     "name": "stdout",
     "output_type": "stream",
     "text": [
      "AUC: 0.9590\n"
     ]
    },
    {
     "data": {
      "image/png": "[encoded data removed]",
      "text/plain": [
       "<Figure size 640x480 with 1 Axes>"
      ]
     },
     "metadata": {},
     "output_type": "display_data"
    }
   ],
   "source": [
    "y_pred_probs = pipeline.predict_proba(test[\"sentences\"])\n",
    "pd.DataFrame(y_pred_probs).to_csv(\"y_pred_probs_tf-idf-NaiveBayes.csv\")\n",
    "\n",
    "def evaluate_roc_probs(probs, y_true):\n",
    "    \"\"\"\n",
    "    - Print AUC and accuracy on the test set\n",
    "    - Plot ROC\n",
    "    @params    probs (np.array): an array of predicted probabilities with shape (len(y_true),)\n",
    "    @params    y_true (np.array): an array of the true values with shape (len(y_true),)\n",
    "    \"\"\"\n",
    "    fpr, tpr, thresholds = roc_curve(y_true, probs)\n",
    "    roc_auc = auc(fpr, tpr)\n",
    "    print(f'AUC: {roc_auc:.4f}')\n",
    "\n",
    "    # Plot ROC AUC\n",
    "    plt.title('Receiver Operating Characteristic')\n",
    "    plt.plot(fpr, tpr, 'b', label='AUC = %0.2f' % roc_auc)\n",
    "    plt.legend(loc='lower right')\n",
    "    plt.plot([0, 1], [0, 1], 'r--')\n",
    "    plt.xlim([0, 1])\n",
    "    plt.ylim([0, 1])\n",
    "    plt.ylabel('True Positive Rate')\n",
    "    plt.xlabel('False Positive Rate')\n",
    "    plt.show()\n",
    "\n",
    "# Evaluate ROC curve\n",
    "evaluate_roc_probs(y_pred_probs[:, 1], test[\"labels\"].values)"
   ]
  },
  {
   "attachments": {},
   "cell_type": "markdown",
   "metadata": {},
   "source": [
    "#### Error Analysis"
   ]
  },
  {
   "cell_type": "code",
   "execution_count": 21,
   "metadata": {},
   "outputs": [
    {
     "data": {
      "image/png": "[encoded data removed]",
      "text/plain": [
       "<Figure size 640x480 with 2 Axes>"
      ]
     },
     "metadata": {},
     "output_type": "display_data"
    }
   ],
   "source": [
    "#Show confusion matrix\n",
    "cm = confusion_matrix(test[\"labels\"], y_pred)\n",
    "cm = pd.DataFrame(cm, index=[\"Negative\", \"Positive\"], columns=[\"Negative\", \"Positive\"])\n",
    "sns.heatmap(cm, annot=True, fmt='g', cmap='Blues')\n",
    "plt.xlabel(\"Predicted\")\n",
    "plt.ylabel(\"Actual\")\n",
    "plt.title(\"Confusion Matrix\")\n",
    "plt.show()\n"
   ]
  },
  {
   "cell_type": "code",
   "execution_count": 22,
   "metadata": {},
   "outputs": [
    {
     "data": {
      "text/plain": [
       "<AxesSubplot: xlabel='labels'>"
      ]
     },
     "execution_count": 22,
     "metadata": {},
     "output_type": "execute_result"
    },
    {
     "data": {
      "image/png": "[encoded data removed]",
      "text/plain": [
       "<Figure size 640x480 with 1 Axes>"
      ]
     },
     "metadata": {},
     "output_type": "display_data"
    }
   ],
   "source": [
    "test = pd.read_csv((\"test_data_44k.csv\"))\n",
    "test[\"y_pred\"] = y_pred\n",
    "test[test[\"labels\"] != test[\"y_pred\"]].groupby('labels').count()[\"sentences\"].plot(kind=\"bar\")"
   ]
  },
  {
   "cell_type": "code",
   "execution_count": 25,
   "metadata": {},
   "outputs": [
    {
     "data": {
      "text/html": [
       "<div>\n",
       "<style scoped>\n",
       "    .dataframe tbody tr th:only-of-type {\n",
       "        vertical-align: middle;\n",
       "    }\n",
       "\n",
       "    .dataframe tbody tr th {\n",
       "        vertical-align: top;\n",
       "    }\n",
       "\n",
       "    .dataframe thead th {\n",
       "        text-align: right;\n",
       "    }\n",
       "</style>\n",
       "<table border=\"1\" class=\"dataframe\">\n",
       "  <thead>\n",
       "    <tr style=\"text-align: right;\">\n",
       "      <th></th>\n",
       "      <th>sentences</th>\n",
       "      <th>labels</th>\n",
       "      <th>y_pred</th>\n",
       "    </tr>\n",
       "  </thead>\n",
       "  <tbody>\n",
       "    <tr>\n",
       "      <th>12847</th>\n",
       "      <td>a good book: this book really hit the mark with the right balance of theory and practical application. i've waded through more than a few technical books on tube radio theory and restoration, and this one, though not as detailed as a textbook, is clearly the place to start.however, the section on troubleshooting was extremely limited. experience indicates that after following the steps recommended in the book between 10 and 20 percent of restored radios will still have some type of problem. most individuals learning the process for repairing tube radios will be seeking practical guidance for identifying possible sources of these problems and their potential solutions. maybe troubleshooting will be the subject of mr. mcwhorter's next book.</td>\n",
       "      <td>1</td>\n",
       "      <td>1</td>\n",
       "    </tr>\n",
       "    <tr>\n",
       "      <th>14827</th>\n",
       "      <td>here is just a sample!! check it out!!: i love this album and pray that someone contacts me so that i can get a copy of the cd or even tape! amazon...please get this so that all of us who would like a copy can get it! until then...here is \"feel like going on\" the song![...]</td>\n",
       "      <td>1</td>\n",
       "      <td>1</td>\n",
       "    </tr>\n",
       "    <tr>\n",
       "      <th>18809</th>\n",
       "      <td>still in the box: i don't really know how the product is. after reading more detailed information included with the product, it says not recommended for the pool because the clorine could effect/shorten the product life. it seems that the ad shows the coolaroo shade being used next to the pool. and that's what we bought it for. not sure what to do with them now - still siting in the box next to the door gathering dust.... oh, well. i'm sure its a great product, just not for us.</td>\n",
       "      <td>0</td>\n",
       "      <td>0</td>\n",
       "    </tr>\n",
       "    <tr>\n",
       "      <th>27443</th>\n",
       "      <td>leaves the readers hungry for more.: it's weird really how i got so into this book. one of my friends who just so happened read the book was begging me to read it. now, don't get me wrong i love fantasy stories especially ones that are about these blood suckers but after hearing my friend's summary of it i don't know i just felt uninterested.pffft...boy was i glad my friend's the persisting type. she practically lunged the book at me. so as to not annoy her more, i read her copy of the book and i found myself entralled by it. i could not stop reading it!after finishing it i felt saddened that it was finished. i wanted more! i wanted to know what happened next.i gave the book back to my friend and straight away got myself a copy of twilight. it's really that good. i love it.trust me no matter how 'off' the summary might seem like you would not feel dissatisfied by its contents.</td>\n",
       "      <td>1</td>\n",
       "      <td>0</td>\n",
       "    </tr>\n",
       "    <tr>\n",
       "      <th>29215</th>\n",
       "      <td>emotionally-distant author: for a memoir, the author is very removed from the experiences she writes about. she conveys little if any emotion about what must have been a very lonely and often frightening existance (especially given her age) in a strange land with a mad and eventually abusive husband, a young child who was often extremely sick and with the responsibilites of running a hacienda. although her writing is beautiful at times, the author never really connected with me.</td>\n",
       "      <td>0</td>\n",
       "      <td>1</td>\n",
       "    </tr>\n",
       "  </tbody>\n",
       "</table>\n",
       "</div>"
      ],
      "text/plain": [
       "                                                                                                                                                                                                                                                                                                                                                                                                                                                                                                                                                                                                                                                                                                                                                                                                                                                                                                                       sentences  \\\n",
       "12847                                                                                                                                               a good book: this book really hit the mark with the right balance of theory and practical application. i've waded through more than a few technical books on tube radio theory and restoration, and this one, though not as detailed as a textbook, is clearly the place to start.however, the section on troubleshooting was extremely limited. experience indicates that after following the steps recommended in the book between 10 and 20 percent of restored radios will still have some type of problem. most individuals learning the process for repairing tube radios will be seeking practical guidance for identifying possible sources of these problems and their potential solutions. maybe troubleshooting will be the subject of mr. mcwhorter's next book.   \n",
       "14827                                                                                                                                                                                                                                                                                                                                                                                                                                                                                                                                                                                                                                         here is just a sample!! check it out!!: i love this album and pray that someone contacts me so that i can get a copy of the cd or even tape! amazon...please get this so that all of us who would like a copy can get it! until then...here is \"feel like going on\" the song![...]   \n",
       "18809                                                                                                                                                                                                                                                                                                                                                                                                                         still in the box: i don't really know how the product is. after reading more detailed information included with the product, it says not recommended for the pool because the clorine could effect/shorten the product life. it seems that the ad shows the coolaroo shade being used next to the pool. and that's what we bought it for. not sure what to do with them now - still siting in the box next to the door gathering dust.... oh, well. i'm sure its a great product, just not for us.   \n",
       "27443  leaves the readers hungry for more.: it's weird really how i got so into this book. one of my friends who just so happened read the book was begging me to read it. now, don't get me wrong i love fantasy stories especially ones that are about these blood suckers but after hearing my friend's summary of it i don't know i just felt uninterested.pffft...boy was i glad my friend's the persisting type. she practically lunged the book at me. so as to not annoy her more, i read her copy of the book and i found myself entralled by it. i could not stop reading it!after finishing it i felt saddened that it was finished. i wanted more! i wanted to know what happened next.i gave the book back to my friend and straight away got myself a copy of twilight. it's really that good. i love it.trust me no matter how 'off' the summary might seem like you would not feel dissatisfied by its contents.   \n",
       "29215                                                                                                                                                                                                                                                                                                                                                                                                                        emotionally-distant author: for a memoir, the author is very removed from the experiences she writes about. she conveys little if any emotion about what must have been a very lonely and often frightening existance (especially given her age) in a strange land with a mad and eventually abusive husband, a young child who was often extremely sick and with the responsibilites of running a hacienda. although her writing is beautiful at times, the author never really connected with me.   \n",
       "\n",
       "       labels  y_pred  \n",
       "12847       1       1  \n",
       "14827       1       1  \n",
       "18809       0       0  \n",
       "27443       1       0  \n",
       "29215       0       1  "
      ]
     },
     "execution_count": 25,
     "metadata": {},
     "output_type": "execute_result"
    }
   ],
   "source": [
    "# Select the 5 random observations from the test set where model failed to predict the label correctly\n",
    "\n",
    "pd.set_option('display.max_colwidth', None)\n",
    "# test[test[\"labels\"] != test[\"y_pred\"]].sample(5)\n",
    "indices = [27443, 29215, 14827 ,18809 ,12847]\n",
    "test[test.index.isin(indices)]"
   ]
  },
  {
   "cell_type": "code",
   "execution_count": 26,
   "metadata": {},
   "outputs": [
    {
     "data": {
      "text/html": [
       "<div>\n",
       "<style scoped>\n",
       "    .dataframe tbody tr th:only-of-type {\n",
       "        vertical-align: middle;\n",
       "    }\n",
       "\n",
       "    .dataframe tbody tr th {\n",
       "        vertical-align: top;\n",
       "    }\n",
       "\n",
       "    .dataframe thead th {\n",
       "        text-align: right;\n",
       "    }\n",
       "</style>\n",
       "<table border=\"1\" class=\"dataframe\">\n",
       "  <thead>\n",
       "    <tr style=\"text-align: right;\">\n",
       "      <th></th>\n",
       "      <th>sentences</th>\n",
       "      <th>labels</th>\n",
       "      <th>y_pred</th>\n",
       "    </tr>\n",
       "  </thead>\n",
       "  <tbody>\n",
       "    <tr>\n",
       "      <th>10772</th>\n",
       "      <td>not worth the wait at all!: all i can say is that this book was a dissapointment. it seems to be the same plot over and over again from the other book except it's lacking a lot on the emotional level. most of the books that mrs. feehan have written over the years all have nearly the same plotting but at least the characters in those other books are more well define. yes, the book had plenty of fighting (too much in my opinion), plenty of sex scenes but the love just wasn't that well portray. all in all, an unsastisfied read. not to mention i waited four months for this. just hope her upcoming books such as dark celebration and dark possession holds more elements of a paranormal romance novel.</td>\n",
       "      <td>0</td>\n",
       "      <td>1</td>\n",
       "    </tr>\n",
       "    <tr>\n",
       "      <th>18081</th>\n",
       "      <td>not sure . . .: i read this book with some enjoyment. the writing was good. the story kept me interested and reading, but when i reached the end, i felt disturbed and unsatisfied. i did not like the ultimate let down the main character gave me. however, because i found the writing very good, i am going try another book by this auther and hope for a more satisfying end.</td>\n",
       "      <td>1</td>\n",
       "      <td>0</td>\n",
       "    </tr>\n",
       "    <tr>\n",
       "      <th>21350</th>\n",
       "      <td>bye bye comcast!: i bought a sharp aquos before christmas and recently started exploring ota hdtv. when i bought my house there was an antenna in the attic (a classic vhf/uhf antenna), so i hooked that up to the tv to see what channels i could get. unfortunately, my local fox affiliate would not tune and my local nbc station was intermittent--they are both about 35-40 miles away.i first tried switching to a \"hd\" antenna, but this was worse than the classic antenna.then i hooked up the signal booster. suddenly, i have all of my locals plus a few i didn't even know existed. the signal is perfect and a lot of the signals are even stronger than what i was getting over a cable from comcast! i can even now get one station which is located approximately 180 degrees from where the antenna is pointed--although this station is only about 12 miles away.anyway, at the end of the month i am cancelling my comcast subscription since i now have crystal clear hd for free!</td>\n",
       "      <td>1</td>\n",
       "      <td>0</td>\n",
       "    </tr>\n",
       "    <tr>\n",
       "      <th>30676</th>\n",
       "      <td>classic baby toy but ugly packaging: i ordered this as a gift - the product was as pictured, but is came in a really ugly cardboard box. being that the gift was for a baby, i was hoping for more attractive packaging - otherwise it was a nice gift.</td>\n",
       "      <td>1</td>\n",
       "      <td>0</td>\n",
       "    </tr>\n",
       "    <tr>\n",
       "      <th>15482</th>\n",
       "      <td>(not u-13, but didn't have an account.): green day has totally mainstream with this album, which disappointed me. new fans who have never heard green day before will love the new green day, and hate the old green day because their older music is much different than this new album. i am extremely disappointed, for this album is pure pop-punk and none of the songs are even really that good. green day has sold out with this album. check out their older albums, they are much better worth listening to if you like real punk music.</td>\n",
       "      <td>0</td>\n",
       "      <td>1</td>\n",
       "    </tr>\n",
       "  </tbody>\n",
       "</table>\n",
       "</div>"
      ],
      "text/plain": [
       "                                                                                                                                                                                                                                                                                                                                                                                                                                                                                                                                                                                                                                                                                                                                                                                                                                                                                                                                                                                                       sentences  \\\n",
       "10772                                                                                                                                                                                                                                                                              not worth the wait at all!: all i can say is that this book was a dissapointment. it seems to be the same plot over and over again from the other book except it's lacking a lot on the emotional level. most of the books that mrs. feehan have written over the years all have nearly the same plotting but at least the characters in those other books are more well define. yes, the book had plenty of fighting (too much in my opinion), plenty of sex scenes but the love just wasn't that well portray. all in all, an unsastisfied read. not to mention i waited four months for this. just hope her upcoming books such as dark celebration and dark possession holds more elements of a paranormal romance novel.   \n",
       "18081                                                                                                                                                                                                                                                                                                                                                                                                                                                                                                                                                                                                                        not sure . . .: i read this book with some enjoyment. the writing was good. the story kept me interested and reading, but when i reached the end, i felt disturbed and unsatisfied. i did not like the ultimate let down the main character gave me. however, because i found the writing very good, i am going try another book by this auther and hope for a more satisfying end.   \n",
       "21350  bye bye comcast!: i bought a sharp aquos before christmas and recently started exploring ota hdtv. when i bought my house there was an antenna in the attic (a classic vhf/uhf antenna), so i hooked that up to the tv to see what channels i could get. unfortunately, my local fox affiliate would not tune and my local nbc station was intermittent--they are both about 35-40 miles away.i first tried switching to a \"hd\" antenna, but this was worse than the classic antenna.then i hooked up the signal booster. suddenly, i have all of my locals plus a few i didn't even know existed. the signal is perfect and a lot of the signals are even stronger than what i was getting over a cable from comcast! i can even now get one station which is located approximately 180 degrees from where the antenna is pointed--although this station is only about 12 miles away.anyway, at the end of the month i am cancelling my comcast subscription since i now have crystal clear hd for free!   \n",
       "30676                                                                                                                                                                                                                                                                                                                                                                                                                                                                                                                                                                                                                                                                                                                                                    classic baby toy but ugly packaging: i ordered this as a gift - the product was as pictured, but is came in a really ugly cardboard box. being that the gift was for a baby, i was hoping for more attractive packaging - otherwise it was a nice gift.   \n",
       "15482                                                                                                                                                                                                                                                                                                                                                                                                                                                         (not u-13, but didn't have an account.): green day has totally mainstream with this album, which disappointed me. new fans who have never heard green day before will love the new green day, and hate the old green day because their older music is much different than this new album. i am extremely disappointed, for this album is pure pop-punk and none of the songs are even really that good. green day has sold out with this album. check out their older albums, they are much better worth listening to if you like real punk music.   \n",
       "\n",
       "       labels  y_pred  \n",
       "10772       0       1  \n",
       "18081       1       0  \n",
       "21350       1       0  \n",
       "30676       1       0  \n",
       "15482       0       1  "
      ]
     },
     "execution_count": 26,
     "metadata": {},
     "output_type": "execute_result"
    }
   ],
   "source": [
    "pd.set_option('display.max_colwidth', None)\n",
    "test[test[\"labels\"] != test[\"y_pred\"]].sample(5)"
   ]
  },
  {
   "attachments": {},
   "cell_type": "markdown",
   "metadata": {},
   "source": [
    "It seems that our Naive Bayes model is able to classify negative sentiments better than positive ones. One reason is that usually negative sentences consists of negative words dominantly in terms of purity but the positive reviews often embedded with negative words which are referring to the features of the product that aren't appreciated by the reviewer eventhough product in general liked by the reviewer. This situation often caused by the lack of full contextual understanding over the sentence. However those models are not relly designed to understand semantics of the reviews using ngram still helps us to capture some contextual connections between words."
   ]
  }
 ],
 "metadata": {
  "kernelspec": {
   "display_name": "python310",
   "language": "python",
   "name": "python3"
  },
  "language_info": {
   "codemirror_mode": {
    "name": "ipython",
    "version": 3
   },
   "file_extension": ".py",
   "mimetype": "text/x-python",
   "name": "python",
   "nbconvert_exporter": "python",
   "pygments_lexer": "ipython3",
   "version": "3.10.6"
  },
  "orig_nbformat": 4
 },
 "nbformat": 4,
 "nbformat_minor": 2
}
