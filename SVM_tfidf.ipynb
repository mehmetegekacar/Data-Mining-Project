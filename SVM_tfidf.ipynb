{
 "cells": [
  {
   "cell_type": "code",
   "execution_count": 1,
   "metadata": {},
   "outputs": [],
   "source": [
    "import pandas as pd\n",
    "import numpy as np\n",
    "import matplotlib.pyplot as plt\n",
    "import string\n",
    "from nltk.corpus import stopwords\n",
    "from sklearn.feature_extraction.text import TfidfVectorizer\n",
    "from sklearn.model_selection import train_test_split\n",
    "from sklearn.decomposition import PCA\n",
    "from sklearn.preprocessing import StandardScaler\n",
    "from sklearn.metrics import confusion_matrix\n",
    "from sklearn.compose import ColumnTransformer\n",
    "from sklearn.pipeline import Pipeline\n",
    "from sklearn.svm import LinearSVC, SVC\n",
    "from sklearn.preprocessing import StandardScaler, MinMaxScaler\n",
    "from sklearn.model_selection import ParameterGrid\n",
    "from sklearn.linear_model import SGDClassifier\n",
    "from sklearn.model_selection import KFold\n",
    "from sklearn.model_selection import GridSearchCV\n",
    "from joblib import Parallel, parallel_backend\n",
    "from sklearn.metrics import accuracy_score, roc_auc_score, precision_score, recall_score, f1_score\n",
    "from itertools import product\n",
    "import seaborn as sns\n",
    "from sklearn.metrics import roc_curve, auc\n"
   ]
  },
  {
   "attachments": {},
   "cell_type": "markdown",
   "metadata": {},
   "source": [
    "### We are defining some functions for preprocessing, cleaning and data structuring purposes"
   ]
  },
  {
   "cell_type": "code",
   "execution_count": 16,
   "metadata": {},
   "outputs": [],
   "source": [
    "def clean_text(text):\n",
    "    ''' \n",
    "    Some basic text cleaning phases this function should be applied to the text column\n",
    "    of the data\n",
    "    '''\n",
    "    # lower text\n",
    "    text = text.lower()\n",
    "    # tokenize text and remove puncutation\n",
    "    text = [word.strip(string.punctuation) for word in text.split(\" \")]\n",
    "    # remove words that contain numbers\n",
    "    text = [word for word in text if not any(c.isdigit() for c in word)]\n",
    "    # remove stop words\n",
    "    stop = set(stopwords.words('english'))\n",
    "    stop = [w for w in stop if w not in ['not', 'no']]\n",
    "    text = [x for x in text if (x not in stop)]\n",
    "    # remove empty tokens\n",
    "    text = [t for t in text if len(t) > 0]\n",
    "    # remove words with only one letter\n",
    "    text = [t for t in text if len(t) > 1]\n",
    "    # join all\n",
    "    text = \" \".join(text)\n",
    "    # tokenize the text\n",
    "    #text = text.split()\n",
    "    return(text)\n",
    "\n",
    "def evaluate_roc_probs(probs, y_true):\n",
    "    \"\"\"\n",
    "    - Print AUC and accuracy on the test set\n",
    "    - Plot ROC\n",
    "    @params    probs (np.array): an array of predicted probabilities with shape (len(y_true), 2)\n",
    "    @params    y_true (np.array): an array of the true values with shape (len(y_true),)\n",
    "    \"\"\"\n",
    "    preds = probs[:, 1]\n",
    "    fpr, tpr, threshold = roc_curve(y_true, preds)\n",
    "    roc_auc = auc(fpr, tpr)\n",
    "    print(f'AUC: {roc_auc:.4f}')\n",
    "       \n",
    "    # Get accuracy over the test set\n",
    "    y_pred = np.where(preds >= 0.5, 1, 0)\n",
    "    accuracy = accuracy_score(y_true, y_pred)\n",
    "    print(f'Accuracy: {accuracy*100:.2f}%')\n",
    "    \n",
    "    # Plot ROC AUC\n",
    "    plt.title('Receiver Operating Characteristic')\n",
    "    plt.plot(fpr, tpr, 'b', label = 'AUC = %0.2f' % roc_auc)\n",
    "    plt.legend(loc = 'lower right')\n",
    "    plt.plot([0, 1], [0, 1],'r--')\n",
    "    plt.xlim([0, 1])\n",
    "    plt.ylim([0, 1])\n",
    "    plt.ylabel('True Positive Rate')\n",
    "    plt.xlabel('False Positive Rate')\n",
    "    plt.show()\n",
    "\n",
    "    \n",
    "def apply_cleaning(X_train):\n",
    "    '''\n",
    "    With this fonction we apply the clean_text function to the text column of the data\n",
    "    and it gives as output the cleaned data for each row of the text column\n",
    "    '''\n",
    "    X_train = X_train.apply(lambda x: clean_text(x))\n",
    "    return(X_train)\n",
    "\n",
    "def tfidf_featured_data(X_train):\n",
    "    ''''\n",
    "    No need to explain this function because we gonna use it in the pipeline automatically this function\n",
    "    used to add tf-idfs columns to the data but I used this to play around with the data and see the\n",
    "    results of the tfidf vectorizer\n",
    "    '''\n",
    "\n",
    "    X_train = apply_cleaning(X_train)\n",
    "    # add tf-idfs columns\n",
    "    tfidf = TfidfVectorizer(min_df = 30)\n",
    "    tfidf_result = tfidf.fit_transform(X_train).toarray()\n",
    "    tfidf_df = pd.DataFrame(tfidf_result, columns = tfidf.get_feature_names_out())\n",
    "    tfidf_df.columns = [\"word_\" + str(x) for x in tfidf_df.columns]\n",
    "    tfidf_df.index = X_train.index\n",
    "    X_train = pd.concat([X_train, tfidf_df], axis=1)\n",
    "    X_train.drop(columns = ['sentences'], inplace = True)\n",
    "    \n",
    "    return X_train\n",
    "\n",
    "def dict2text(dicti):\n",
    "    '''\n",
    "    This function is used to convert the dictionary of parameters to a string\n",
    "    used for GridsearchCV outputs to be saved in a csv file and to be used later \n",
    "    on project.\n",
    "    '''\n",
    "    text = ''\n",
    "    for key, value in dicti.items():\n",
    "        text += str(key) + '=' + str(value) + ' '\n",
    "    return text\n",
    "\n",
    "def format_params(params_str):\n",
    "    '''\n",
    "    I captured some differences between the parameters of the GridsearchCV output\n",
    "    to standardize it and make it easy to be used later on the project.\n",
    "    '''\n",
    "    # Remove the opening and closing braces and quotes\n",
    "    params_str = params_str.replace(\"{\", \"\").replace(\"}\", \"\").replace(\"'\", \"\")\n",
    "\n",
    "    # Replace commas with spaces\n",
    "    params_str = params_str.replace(\", \", \" \")\n",
    "\n",
    "    # Replace colons with equals signs\n",
    "    params_str = params_str.replace(\":\", \"=\")\n",
    "\n",
    "    # Remove spaces around equals signs\n",
    "    params_str = params_str.replace(\"= \", \"=\").replace(\" =\", \"=\")\n",
    "\n",
    "    return params_str\n",
    "\n",
    "def evaluate_roc(probs, y_true):\n",
    "    \"\"\"\n",
    "    - Print AUC and accuracy on the test set\n",
    "    - Plot ROC\n",
    "    @params    probs (np.array): an array of predicted probabilities with shape (len(y_true), 2)\n",
    "    @params    y_true (np.array): an array of the true values with shape (len(y_true),)\n",
    "    \"\"\"\n",
    "    preds = probs[:, 1]\n",
    "    fpr, tpr, threshold = roc_curve(y_true, preds)\n",
    "    roc_auc = auc(fpr, tpr)\n",
    "    print(f'AUC: {roc_auc:.4f}')\n",
    "       \n",
    "    # Get accuracy over the test set\n",
    "    y_pred = np.where(preds >= 0.5, 1, 0)\n",
    "    accuracy = accuracy_score(y_true, y_pred)\n",
    "    print(f'Accuracy: {accuracy*100:.2f}%')\n",
    "    \n",
    "    # Plot ROC AUC\n",
    "    plt.title('Receiver Operating Characteristic')\n",
    "    plt.plot(fpr, tpr, 'b', label = 'AUC = %0.2f' % roc_auc)\n",
    "    plt.legend(loc = 'lower right')\n",
    "    plt.plot([0, 1], [0, 1],'r--')\n",
    "    plt.xlim([0, 1])\n",
    "    plt.ylim([0, 1])\n",
    "    plt.ylabel('True Positive Rate')\n",
    "    plt.xlabel('False Positive Rate')\n",
    "    plt.show()\n",
    "\n",
    "def roc_auc(test, y_pred):\n",
    "    # Assuming y_true contains the true labels (0 or 1) and y_pred contains the predicted probabilities for the positive class\n",
    "    fpr, tpr, thresholds = roc_curve(test.values, y_pred)\n",
    "    roc_auc = auc(fpr, tpr)\n",
    "\n",
    "    # Plotting the ROC curve\n",
    "    plt.plot(fpr, tpr, label='ROC curve (AUC = %0.2f)' % roc_auc)\n",
    "    plt.plot([0, 1], [0, 1], 'k--')  # Random guess line\n",
    "    plt.xlabel('False Positive Rate')\n",
    "    plt.ylabel('True Positive Rate')\n",
    "    plt.title('Receiver Operating Characteristic')\n",
    "    plt.legend(loc='lower right')\n",
    "    plt.show()"
   ]
  },
  {
   "attachments": {},
   "cell_type": "markdown",
   "metadata": {},
   "source": [
    "### Importing the train data and checking if the labels are distributed equally. "
   ]
  },
  {
   "cell_type": "code",
   "execution_count": 3,
   "metadata": {},
   "outputs": [
    {
     "data": {
      "text/plain": [
       "<AxesSubplot: xlabel='labels'>"
      ]
     },
     "execution_count": 3,
     "metadata": {},
     "output_type": "execute_result"
    },
    {
     "data": {
      "image/png": "[encoded data removed]",
      "text/plain": [
       "<Figure size 640x480 with 1 Axes>"
      ]
     },
     "metadata": {},
     "output_type": "display_data"
    }
   ],
   "source": [
    "train = pd.read_csv('train_data_400k_randomsample.csv')\n",
    "train[\"labels\"].groupby(train[\"labels\"]).count().plot(kind=\"bar\")"
   ]
  },
  {
   "attachments": {},
   "cell_type": "markdown",
   "metadata": {},
   "source": [
    "##### To find the best hyperparameter settings we have to do a hyperparameter tunning with whether random search or gridsearch cv. Random search is usually fits best for the big datasets where trying all parameter combinations with cross validation is comnputationally expensive and time consuming. Eventhough random search don't always ensure the best hyperparameter combination. So I decided to randomly sample 400k of data from all dataset and applied a batched hyperparameter tunning with the hope of well generalization. For computational issues SVC has been trained with 400k of data with 4 batches of 100k because of long computational hardness and saving the each process so in case of any crash we can continue from the batch where we left off. "
   ]
  },
  {
   "cell_type": "code",
   "execution_count": 33,
   "metadata": {},
   "outputs": [],
   "source": [
    "# What this cell does is first subsampling the data to certain batches then doing hyperparameter tunning with GridsearchCV main reason for batching is that training all data \n",
    "# which is already huge gets more huge with tf-idf feature so the bigger the data it takes more time to train and tune the model so I decided to split the data into batches\n",
    "# then taking the mean of each batch results to get the final results of the model. However slicing the data and taking the mean value of accuracy of all batches is good idea for\n",
    "# generalization but when the sliced data is too small then hyperparameter setting for the small data is not good for the whole data so it is better to be careful about generalization. \n",
    "\n",
    "# Split the data into multiple slices\n",
    "\n",
    "train[\"sentences\"] = apply_cleaning(train[\"sentences\"])\n",
    "\n",
    "slices = [train[:400000]]\n",
    "\n",
    "# Define the pipeline with normalization\n",
    "pipeline_without_norm = Pipeline([\n",
    "    ('tfidf', TfidfVectorizer()),\n",
    "    ('svc', SVC())\n",
    "])\n",
    "\n",
    "# Define the hyperparameters to tune for each pipeline\n",
    "parameters_without_norm = {\n",
    "    'tfidf__max_features': [5000],\n",
    "    'svc__C': [0.1, 1, 10],\n",
    "    'svc__kernel': ['rbf']\n",
    "}\n",
    "\n",
    "dfs = []\n",
    "\n",
    "for i, slice in enumerate(slices):\n",
    "    print(\"Slice: \", i+1, str(len(slice)))\n",
    "    # Split the current slice into train and test sets\n",
    "    X_train, X_test, y_train, y_test = train_test_split(slice[\"sentences\"], slice[\"labels\"], test_size=0.1)\n",
    "    \n",
    "    # Create a GridSearchCV object for each pipeline\n",
    "    grid_search_without_norm = GridSearchCV(pipeline_without_norm, parameters_without_norm, cv=3, verbose=3)\n",
    "\n",
    "    with parallel_backend(backend=\"multiprocessing\", n_jobs=-1):\n",
    "        # Fit the GridSearchCV object on the training data\n",
    "        grid_search_without_norm.fit(X_train, y_train)\n",
    "\n",
    "    # Predict the labels for the test set\n",
    "    y_pred = grid_search_without_norm.predict(X_test)\n",
    "\n",
    "    # Calculate the accuracy score for the current slice\n",
    "    score = accuracy_score(y_test, y_pred)\n",
    "\n",
    "    # Print the accuracy score and best hyperparameters for the current slice\n",
    "    print(\"Accuracy score: \", score)\n",
    "    print(\"Best hyperparameters: \", grid_search_without_norm.best_params_)\n",
    "    print(\"Best accuracy score: \", grid_search_without_norm.best_score_)\n",
    "\n",
    "    #store it in a dataframe\n",
    "    df = pd.DataFrame(list(zip(grid_search_without_norm.cv_results_['params'], grid_search_without_norm.cv_results_['mean_test_score'])), columns=['params', 'mean_test_score of batch '+str(i)])\n",
    "    df.to_csv('grid_search_results20k_batch'+str(i)+'.csv')\n",
    "    dfs.append(df)\n",
    "\n",
    "dfs = pd.concat(dfs, axis=0, ignore_index=True)\n",
    "dfs[\"params\"] = dfs[\"params\"].apply(lambda x: dict2text(x))\n",
    "dfs = dfs.groupby(['params']).mean().to_csv('grid_search_results400k.csv')\n",
    "pd.DataFrame(zip(dfs[\"params\"].values,dfs.mean(axis=0)),columns=['params','mean_test_score']).sort_values(by='mean_test_score',ascending=False).to_csv('grid_search_results400k_no_rbfgamma_setting_.csv')"
   ]
  },
  {
   "attachments": {},
   "cell_type": "markdown",
   "metadata": {},
   "source": [
    "##### But Linear SVC method has been trained with one batch of 400k due to time efficient computational abilities. "
   ]
  },
  {
   "cell_type": "code",
   "execution_count": 30,
   "metadata": {},
   "outputs": [
    {
     "name": "stdout",
     "output_type": "stream",
     "text": [
      "Slice:  1 400000\n",
      "Fitting 3 folds for each of 12 candidates, totalling 36 fits\n",
      "[CV 1/3] END svc__C=0.1, svc__dual=True, svc__loss=hinge, svc__penalty=l2;, score=0.894 total time=  22.9s\n",
      "[CV 2/3] END svc__C=0.1, svc__dual=True, svc__loss=hinge, svc__penalty=l2;, score=0.894 total time=  24.0s\n",
      "[CV 3/3] END svc__C=0.1, svc__dual=True, svc__loss=hinge, svc__penalty=l2;, score=0.894 total time=  23.9s\n",
      "[CV 2/3] END svc__C=0.1, svc__dual=True, svc__loss=squared_hinge, svc__penalty=l2;, score=0.899 total time=  25.2s\n",
      "[CV 1/3] END svc__C=0.1, svc__dual=True, svc__loss=squared_hinge, svc__penalty=l2;, score=0.898 total time=  25.9s\n",
      "[CV 3/3] END svc__C=0.1, svc__dual=True, svc__loss=squared_hinge, svc__penalty=l2;, score=0.899 total time=  26.2s\n",
      "[CV 1/3] END svc__C=1, svc__dual=True, svc__loss=hinge, svc__penalty=l2;, score=0.897 total time=  39.4s\n",
      "[CV 2/3] END svc__C=1, svc__dual=True, svc__loss=hinge, svc__penalty=l2;, score=0.899 total time=  39.8s\n",
      "[CV 3/3] END svc__C=1, svc__dual=True, svc__loss=hinge, svc__penalty=l2;, score=0.898 total time=  42.2s\n",
      "[CV 1/3] END svc__C=1, svc__dual=True, svc__loss=squared_hinge, svc__penalty=l2;, score=0.893 total time=  28.4s\n",
      "[CV 3/3] END svc__C=1, svc__dual=True, svc__loss=squared_hinge, svc__penalty=l2;, score=0.894 total time=  29.6s\n",
      "[CV 2/3] END svc__C=1, svc__dual=True, svc__loss=squared_hinge, svc__penalty=l2;, score=0.894 total time=  30.8s\n",
      "[CV 1/3] END svc__C=0.1, svc__dual=False, svc__loss=squared_hinge, svc__penalty=l1;, score=0.893 total time=  36.6s\n",
      "[CV 2/3] END svc__C=0.1, svc__dual=False, svc__loss=squared_hinge, svc__penalty=l1;, score=0.894 total time=  36.7s\n",
      "[CV 3/3] END svc__C=0.1, svc__dual=False, svc__loss=squared_hinge, svc__penalty=l1;, score=0.893 total time=  40.6s\n"
     ]
    },
    {
     "name": "stderr",
     "output_type": "stream",
     "text": [
      "/home/ege/miniconda3/envs/dataminingv/lib/python3.10/site-packages/sklearn/svm/_base.py:1225: ConvergenceWarning: Liblinear failed to converge, increase the number of iterations.\n",
      "  warnings.warn(\n",
      "/home/ege/miniconda3/envs/dataminingv/lib/python3.10/site-packages/sklearn/svm/_base.py:1225: ConvergenceWarning: Liblinear failed to converge, increase the number of iterations.\n",
      "  warnings.warn(\n",
      "/home/ege/miniconda3/envs/dataminingv/lib/python3.10/site-packages/sklearn/svm/_base.py:1225: ConvergenceWarning: Liblinear failed to converge, increase the number of iterations.\n",
      "  warnings.warn(\n"
     ]
    },
    {
     "name": "stdout",
     "output_type": "stream",
     "text": [
      "[CV 3/3] END svc__C=10, svc__dual=True, svc__loss=hinge, svc__penalty=l2;, score=0.884 total time= 1.6min\n",
      "[CV 1/3] END svc__C=10, svc__dual=True, svc__loss=hinge, svc__penalty=l2;, score=0.883 total time= 1.7min\n",
      "[CV 2/3] END svc__C=10, svc__dual=True, svc__loss=hinge, svc__penalty=l2;, score=0.883 total time= 1.8min\n",
      "[CV 1/3] END svc__C=1, svc__dual=False, svc__loss=squared_hinge, svc__penalty=l1;, score=0.895 total time= 1.0min\n",
      "[CV 2/3] END svc__C=1, svc__dual=False, svc__loss=squared_hinge, svc__penalty=l1;, score=0.896 total time= 1.1min\n",
      "[CV 3/3] END svc__C=10, svc__dual=True, svc__loss=squared_hinge, svc__penalty=l2;, score=0.873 total time= 1.5min\n",
      "[CV 1/3] END svc__C=10, svc__dual=True, svc__loss=squared_hinge, svc__penalty=l2;, score=0.872 total time= 1.6min\n",
      "[CV 3/3] END svc__C=1, svc__dual=False, svc__loss=squared_hinge, svc__penalty=l1;, score=0.896 total time= 1.4min\n",
      "[CV 1/3] END svc__C=0.1, svc__dual=False, svc__loss=squared_hinge, svc__penalty=l2;, score=0.898 total time=  40.7s\n",
      "[CV 2/3] END svc__C=10, svc__dual=True, svc__loss=squared_hinge, svc__penalty=l2;, score=0.873 total time= 1.9min\n",
      "[CV 2/3] END svc__C=0.1, svc__dual=False, svc__loss=squared_hinge, svc__penalty=l2;, score=0.899 total time=  43.3s\n",
      "[CV 3/3] END svc__C=0.1, svc__dual=False, svc__loss=squared_hinge, svc__penalty=l2;, score=0.899 total time=  54.5s\n",
      "[CV 1/3] END svc__C=1, svc__dual=False, svc__loss=squared_hinge, svc__penalty=l2;, score=0.893 total time= 1.1min\n",
      "[CV 2/3] END svc__C=1, svc__dual=False, svc__loss=squared_hinge, svc__penalty=l2;, score=0.894 total time= 1.1min\n",
      "[CV 3/3] END svc__C=1, svc__dual=False, svc__loss=squared_hinge, svc__penalty=l2;, score=0.894 total time= 1.2min\n",
      "[CV 1/3] END svc__C=10, svc__dual=False, svc__loss=squared_hinge, svc__penalty=l2;, score=0.872 total time= 1.8min\n",
      "[CV 3/3] END svc__C=10, svc__dual=False, svc__loss=squared_hinge, svc__penalty=l2;, score=0.873 total time= 1.6min\n",
      "[CV 2/3] END svc__C=10, svc__dual=False, svc__loss=squared_hinge, svc__penalty=l2;, score=0.873 total time= 1.8min\n",
      "[CV 1/3] END svc__C=10, svc__dual=False, svc__loss=squared_hinge, svc__penalty=l1;, score=0.859 total time= 3.0min\n",
      "[CV 3/3] END svc__C=10, svc__dual=False, svc__loss=squared_hinge, svc__penalty=l1;, score=0.860 total time= 2.9min\n",
      "[CV 2/3] END svc__C=10, svc__dual=False, svc__loss=squared_hinge, svc__penalty=l1;, score=0.860 total time= 3.1min\n",
      "Accuracy score:  0.899525\n",
      "Best hyperparameters:  {'svc__C': 0.1, 'svc__dual': False, 'svc__loss': 'squared_hinge', 'svc__penalty': 'l2'}\n",
      "Best accuracy score:  0.8989444444444444\n"
     ]
    }
   ],
   "source": [
    "# What this cell does is first subsampling the data to certain batches then doing hyperparameter tunning with GridsearchCV main reason for batching is that training all data \n",
    "# which is already huge gets more huge with tf-idf feature so the bigger the data it takes more time to train and tune the model so I decided to split the data into batches\n",
    "# then taking the mean of each batch results to get the final results of the model. However slicing the data and taking the mean value of accuracy of all batches is good idea for\n",
    "# generalization but when the sliced data is too small then hyperparameter setting for the small data is not good for the whole data so it is better to be careful about generalization. \n",
    "\n",
    "# Split the data into multiple slices\n",
    "\n",
    "# train[\"sentences\"] = apply_cleaning(train[\"sentences\"])\n",
    "\n",
    "slices = [train[:400000]]\n",
    "\n",
    "# Define the pipeline with normalization\n",
    "pipeline_without_norm = Pipeline([\n",
    "    ('tfidf', TfidfVectorizer(max_features=5000)),\n",
    "    ('svc', LinearSVC())\n",
    "])\n",
    "\n",
    "duals = [True, False]\n",
    "penaltys = ['l1', 'l2']\n",
    "losses = ['hinge', 'squared_hinge']\n",
    "all_params = list(product(duals, penaltys, losses))\n",
    "filtered_params = [{'dual': [dual], 'penalty' : [penalty], 'loss': [loss]}\n",
    "                   for dual, penalty, loss in all_params\n",
    "                   if not (penalty == 'l1' and loss == 'hinge') \n",
    "                   and not ((penalty == 'l1' and loss == 'squared_hinge' and dual is True))\n",
    "                  and not ((penalty == 'l2' and loss == 'hinge' and dual is False))]\n",
    "\n",
    "# Define the hyperparameters to tune for each pipeline\n",
    "c=[0.1, 1, 10]\n",
    "duals = [True, False]\n",
    "penaltys = ['l1', 'l2']\n",
    "losses = ['hinge', 'squared_hinge']\n",
    "all_params = list(product(duals, penaltys, losses,c))\n",
    "filtered_params = [{'svc__dual': [dual], 'svc__penalty' : [penalty], 'svc__loss': [loss], 'svc__C':[C]}\n",
    "                   for dual, penalty, loss, C in all_params\n",
    "                   if not (penalty == 'l1' and loss == 'hinge') \n",
    "                   and not ((penalty == 'l1' and loss == 'squared_hinge' and dual is True))\n",
    "                   and not ((penalty == 'l2' and loss == 'hinge' and dual is False))]\n",
    "\n",
    "dfs = []\n",
    "\n",
    "for i, slice in enumerate(slices):\n",
    "    print(\"Slice: \", i+1, str(len(slice)))\n",
    "    # Split the current slice into train and test sets\n",
    "    X_train, X_test, y_train, y_test = train_test_split(slice[\"sentences\"], slice[\"labels\"], test_size=0.1)\n",
    "    \n",
    "    # Create a GridSearchCV object for each pipeline\n",
    "    grid_search = GridSearchCV(pipeline_without_norm, filtered_params, cv=3, verbose=3)\n",
    "\n",
    "    with parallel_backend(backend=\"multiprocessing\", n_jobs=-1):\n",
    "        # Fit the GridSearchCV object on the training data\n",
    "        grid_search.fit(X_train, y_train)\n",
    "\n",
    "    # Predict the labels for the test set\n",
    "    y_pred = grid_search.predict(X_test)\n",
    "\n",
    "    # Calculate the accuracy score for the current slice\n",
    "    score = accuracy_score(y_test, y_pred)\n",
    "\n",
    "    # Print the accuracy score and best hyperparameters for the current slice\n",
    "    print(\"Accuracy score: \", score)\n",
    "    print(\"Best hyperparameters: \", grid_search.best_params_)\n",
    "    print(\"Best accuracy score: \", grid_search.best_score_)\n",
    "\n",
    "    #store it in a dataframe\n",
    "    df = pd.DataFrame(list(zip(grid_search.cv_results_['params'], grid_search.cv_results_['mean_test_score'])), columns=['params', 'mean_test_score of batch '+str(i)])\n",
    "    df.to_csv('grid_search_results20k_batch'+str(i)+'.csv')\n",
    "    dfs.append(df)\n",
    "\n",
    "dfs = pd.concat(dfs, axis=0, ignore_index=True)\n",
    "dfs[\"params\"] = dfs[\"params\"].apply(lambda x: dict2text(x))\n",
    "dfs = dfs.groupby(['params']).mean().to_csv('grid_search_results400k_linearsvc.csv')"
   ]
  },
  {
   "attachments": {},
   "cell_type": "markdown",
   "metadata": {},
   "source": [
    "#### After simple concetanation and merging phases all the parameters and cv scores are contained in one csv document and saved to the local disc. The model which yields best accuracy score is selected for the whole evaluation. "
   ]
  },
  {
   "cell_type": "code",
   "execution_count": 4,
   "metadata": {},
   "outputs": [
    {
     "data": {
      "text/plain": [
       "'svc__C=0.1 svc__dual=False svc__loss=squared_hinge svc__penalty=l2'"
      ]
     },
     "execution_count": 4,
     "metadata": {},
     "output_type": "execute_result"
    }
   ],
   "source": [
    "df = pd.read_csv(\"hyperparametertunning_results_all.csv\")\n",
    "df[df[\"mean_test_score\"] == df[\"mean_test_score\"].max()][\"params\"][0]"
   ]
  },
  {
   "attachments": {},
   "cell_type": "markdown",
   "metadata": {},
   "source": [
    "#### After selecting the best parameters our model with 1 milion train data and 100k test data being evaluated. And confusion matrix has been produced. "
   ]
  },
  {
   "cell_type": "code",
   "execution_count": 4,
   "metadata": {},
   "outputs": [],
   "source": [
    "train = pd.read_csv(\"train_data_400k_randomsample.csv\")\n",
    "train[\"sentences\"] = apply_cleaning(train[\"sentences\"])\n",
    "test = pd.read_csv((\"test_data_44k.csv\"))\n",
    "test[\"sentences\"] = apply_cleaning(test[\"sentences\"])"
   ]
  },
  {
   "cell_type": "code",
   "execution_count": 5,
   "metadata": {},
   "outputs": [
    {
     "name": "stdout",
     "output_type": "stream",
     "text": [
      "[LibLinear]iter  1 act 2.425e+04 pre 2.317e+04 delta 2.089e+01 f 4.000e+04 |g| 3.183e+03 CG   6\n",
      "iter  2 act 1.991e+03 pre 1.679e+03 delta 2.089e+01 f 1.575e+04 |g| 5.459e+02 CG  10\n",
      "iter  3 act 3.465e+02 pre 3.057e+02 delta 2.089e+01 f 1.376e+04 |g| 3.069e+02 CG  10\n",
      "iter  4 act 3.071e+01 pre 2.921e+01 delta 2.089e+01 f 1.341e+04 |g| 1.002e+02 CG  10\n",
      "iter  5 act 1.263e+00 pre 1.259e+00 delta 2.089e+01 f 1.338e+04 |g| 1.639e+01 CG  12\n",
      "iter  6 act 2.822e-02 pre 2.819e-02 delta 2.089e+01 f 1.338e+04 |g| 1.156e+00 CG  15\n",
      "Accuracy score:  0.8964772727272727\n",
      "F1 score:  0.8964137084119801\n",
      "ROC AUC score:  0.896480667864085\n",
      "Precision score:  0.8948873955684707\n",
      "Recall score:  0.8979452366850426\n"
     ]
    }
   ],
   "source": [
    "#train the model with best hyperparameters\n",
    "pipeline = Pipeline([\n",
    "    ('tfidf', TfidfVectorizer(max_features=5000)),\n",
    "    ('svc', LinearSVC(dual=False, penalty='l2', loss='squared_hinge', C=0.1, verbose=3)),\n",
    "])\n",
    "\n",
    "pipeline.fit(train[\"sentences\"], train[\"labels\"])\n",
    "\n",
    "y_pred = pipeline.predict(test[\"sentences\"])\n",
    "# pd.DataFrame(y_pred).to_csv(\"y_pred_tf-idfsvm.csv\")\n",
    "\n",
    "accuracy_score = accuracy_score(test[\"labels\"], y_pred)\n",
    "f1_score = f1_score(test[\"labels\"], y_pred)\n",
    "roc_auc_score = roc_auc_score(test[\"labels\"], y_pred)\n",
    "precision_score = precision_score(test[\"labels\"], y_pred)\n",
    "recall_score = recall_score(test[\"labels\"], y_pred)\n",
    "\n",
    "print(\"Accuracy score: \", accuracy_score)\n",
    "print(\"F1 score: \", f1_score)\n",
    "print(\"ROC AUC score: \", roc_auc_score)\n",
    "print(\"Precision score: \", precision_score)\n",
    "print(\"Recall score: \", recall_score)\n"
   ]
  },
  {
   "attachments": {},
   "cell_type": "markdown",
   "metadata": {},
   "source": [
    "#### Obtain predicted probabilities for ROC AUC"
   ]
  },
  {
   "cell_type": "code",
   "execution_count": 45,
   "metadata": {},
   "outputs": [],
   "source": [
    "from sklearn.calibration import CalibratedClassifierCV\n",
    "\n",
    "# Train the model with best hyperparameters\n",
    "pipeline = Pipeline([\n",
    "    ('tfidf', TfidfVectorizer(max_features=5000)),\n",
    "    ('svc', LinearSVC(dual=False, penalty='l2', loss='squared_hinge', C=0.1)),\n",
    "])\n",
    "\n",
    "pipeline.fit(train[\"sentences\"], train[\"labels\"])\n",
    "\n",
    "# Vectorize the training data\n",
    "X_train = pipeline.named_steps['tfidf'].transform(train[\"sentences\"])\n",
    "\n",
    "# Train the model with best hyperparameters\n",
    "calibrated_model = CalibratedClassifierCV(pipeline.named_steps['svc'])\n",
    "calibrated_model.fit(X_train, train[\"labels\"])\n",
    "\n",
    "X_test = pipeline.named_steps['tfidf'].transform(test[\"sentences\"])\n",
    "# Predict probabilities for the test data\n",
    "y_pred_proba = calibrated_model.predict_proba(X_test)\n",
    "\n",
    "# Obtain the predicted class labels\n",
    "y_pred = calibrated_model.predict(X_test)\n"
   ]
  },
  {
   "cell_type": "code",
   "execution_count": 50,
   "metadata": {},
   "outputs": [
    {
     "name": "stdout",
     "output_type": "stream",
     "text": [
      "AUC: 0.9598\n"
     ]
    },
    {
     "data": {
      "image/png": "[encoded data removed]",
      "text/plain": [
       "<Figure size 640x480 with 1 Axes>"
      ]
     },
     "metadata": {},
     "output_type": "display_data"
    }
   ],
   "source": [
    "def evaluate_roc_probs(probs, y_true):\n",
    "    \"\"\"\n",
    "    - Print AUC and accuracy on the test set\n",
    "    - Plot ROC\n",
    "    @params    probs (np.array): an array of predicted probabilities with shape (len(y_true),)\n",
    "    @params    y_true (np.array): an array of the true values with shape (len(y_true),)\n",
    "    \"\"\"\n",
    "    fpr, tpr, thresholds = roc_curve(y_true, probs)\n",
    "    roc_auc = auc(fpr, tpr)\n",
    "    print(f'AUC: {roc_auc:.4f}')\n",
    "\n",
    "    # Plot ROC AUC\n",
    "    plt.title('Receiver Operating Characteristic')\n",
    "    plt.plot(fpr, tpr, 'b', label='AUC = %0.2f' % roc_auc)\n",
    "    plt.legend(loc='lower right')\n",
    "    plt.plot([0, 1], [0, 1], 'r--')\n",
    "    plt.xlim([0, 1])\n",
    "    plt.ylim([0, 1])\n",
    "    plt.ylabel('True Positive Rate')\n",
    "    plt.xlabel('False Positive Rate')\n",
    "    plt.show()\n",
    "\n",
    "# Evaluate ROC curve\n",
    "evaluate_roc_probs(y_pred_proba[:, 1], test[\"labels\"].values)"
   ]
  },
  {
   "attachments": {},
   "cell_type": "markdown",
   "metadata": {},
   "source": [
    "#### Error Analysis"
   ]
  },
  {
   "cell_type": "code",
   "execution_count": 6,
   "metadata": {},
   "outputs": [
    {
     "data": {
      "image/png": "[encoded data removed]",
      "text/plain": [
       "<Figure size 640x480 with 2 Axes>"
      ]
     },
     "metadata": {},
     "output_type": "display_data"
    }
   ],
   "source": [
    "#Show confusion matrix\n",
    "cm = confusion_matrix(test[\"labels\"], y_pred)\n",
    "cm = pd.DataFrame(cm, index=[\"Negative\", \"Positive\"], columns=[\"Negative\", \"Positive\"])\n",
    "sns.heatmap(cm, annot=True, fmt='g', cmap='Blues')\n",
    "plt.xlabel(\"Predicted\")\n",
    "plt.ylabel(\"Actual\")\n",
    "plt.title(\"Confusion Matrix\")\n",
    "plt.show()\n"
   ]
  },
  {
   "cell_type": "code",
   "execution_count": 10,
   "metadata": {},
   "outputs": [
    {
     "data": {
      "text/plain": [
       "<AxesSubplot: xlabel='labels'>"
      ]
     },
     "execution_count": 10,
     "metadata": {},
     "output_type": "execute_result"
    },
    {
     "data": {
      "image/png": "[encoded data removed]",
      "text/plain": [
       "<Figure size 640x480 with 1 Axes>"
      ]
     },
     "metadata": {},
     "output_type": "display_data"
    }
   ],
   "source": [
    "test = pd.read_csv((\"test_data_44k.csv\"))\n",
    "test[\"y_pred\"] = y_pred\n",
    "test[test[\"labels\"] != test[\"y_pred\"]].groupby('labels').count()[\"sentences\"].plot(kind=\"bar\")"
   ]
  },
  {
   "cell_type": "code",
   "execution_count": 8,
   "metadata": {},
   "outputs": [
    {
     "data": {
      "text/html": [
       "<div>\n",
       "<style scoped>\n",
       "    .dataframe tbody tr th:only-of-type {\n",
       "        vertical-align: middle;\n",
       "    }\n",
       "\n",
       "    .dataframe tbody tr th {\n",
       "        vertical-align: top;\n",
       "    }\n",
       "\n",
       "    .dataframe thead th {\n",
       "        text-align: right;\n",
       "    }\n",
       "</style>\n",
       "<table border=\"1\" class=\"dataframe\">\n",
       "  <thead>\n",
       "    <tr style=\"text-align: right;\">\n",
       "      <th></th>\n",
       "      <th>sentences</th>\n",
       "      <th>labels</th>\n",
       "      <th>y_pred</th>\n",
       "    </tr>\n",
       "  </thead>\n",
       "  <tbody>\n",
       "    <tr>\n",
       "      <th>12847</th>\n",
       "      <td>a good book: this book really hit the mark with the right balance of theory and practical application. i've waded through more than a few technical books on tube radio theory and restoration, and this one, though not as detailed as a textbook, is clearly the place to start.however, the section on troubleshooting was extremely limited. experience indicates that after following the steps recommended in the book between 10 and 20 percent of restored radios will still have some type of problem. most individuals learning the process for repairing tube radios will be seeking practical guidance for identifying possible sources of these problems and their potential solutions. maybe troubleshooting will be the subject of mr. mcwhorter's next book.</td>\n",
       "      <td>1</td>\n",
       "      <td>0</td>\n",
       "    </tr>\n",
       "    <tr>\n",
       "      <th>14827</th>\n",
       "      <td>here is just a sample!! check it out!!: i love this album and pray that someone contacts me so that i can get a copy of the cd or even tape! amazon...please get this so that all of us who would like a copy can get it! until then...here is \"feel like going on\" the song![...]</td>\n",
       "      <td>1</td>\n",
       "      <td>0</td>\n",
       "    </tr>\n",
       "    <tr>\n",
       "      <th>18809</th>\n",
       "      <td>still in the box: i don't really know how the product is. after reading more detailed information included with the product, it says not recommended for the pool because the clorine could effect/shorten the product life. it seems that the ad shows the coolaroo shade being used next to the pool. and that's what we bought it for. not sure what to do with them now - still siting in the box next to the door gathering dust.... oh, well. i'm sure its a great product, just not for us.</td>\n",
       "      <td>0</td>\n",
       "      <td>1</td>\n",
       "    </tr>\n",
       "    <tr>\n",
       "      <th>27443</th>\n",
       "      <td>leaves the readers hungry for more.: it's weird really how i got so into this book. one of my friends who just so happened read the book was begging me to read it. now, don't get me wrong i love fantasy stories especially ones that are about these blood suckers but after hearing my friend's summary of it i don't know i just felt uninterested.pffft...boy was i glad my friend's the persisting type. she practically lunged the book at me. so as to not annoy her more, i read her copy of the book and i found myself entralled by it. i could not stop reading it!after finishing it i felt saddened that it was finished. i wanted more! i wanted to know what happened next.i gave the book back to my friend and straight away got myself a copy of twilight. it's really that good. i love it.trust me no matter how 'off' the summary might seem like you would not feel dissatisfied by its contents.</td>\n",
       "      <td>1</td>\n",
       "      <td>0</td>\n",
       "    </tr>\n",
       "    <tr>\n",
       "      <th>29215</th>\n",
       "      <td>emotionally-distant author: for a memoir, the author is very removed from the experiences she writes about. she conveys little if any emotion about what must have been a very lonely and often frightening existance (especially given her age) in a strange land with a mad and eventually abusive husband, a young child who was often extremely sick and with the responsibilites of running a hacienda. although her writing is beautiful at times, the author never really connected with me.</td>\n",
       "      <td>0</td>\n",
       "      <td>1</td>\n",
       "    </tr>\n",
       "  </tbody>\n",
       "</table>\n",
       "</div>"
      ],
      "text/plain": [
       "                                                                                                                                                                                                                                                                                                                                                                                                                                                                                                                                                                                                                                                                                                                                                                                                                                                                                                                       sentences  \\\n",
       "12847                                                                                                                                               a good book: this book really hit the mark with the right balance of theory and practical application. i've waded through more than a few technical books on tube radio theory and restoration, and this one, though not as detailed as a textbook, is clearly the place to start.however, the section on troubleshooting was extremely limited. experience indicates that after following the steps recommended in the book between 10 and 20 percent of restored radios will still have some type of problem. most individuals learning the process for repairing tube radios will be seeking practical guidance for identifying possible sources of these problems and their potential solutions. maybe troubleshooting will be the subject of mr. mcwhorter's next book.   \n",
       "14827                                                                                                                                                                                                                                                                                                                                                                                                                                                                                                                                                                                                                                         here is just a sample!! check it out!!: i love this album and pray that someone contacts me so that i can get a copy of the cd or even tape! amazon...please get this so that all of us who would like a copy can get it! until then...here is \"feel like going on\" the song![...]   \n",
       "18809                                                                                                                                                                                                                                                                                                                                                                                                                         still in the box: i don't really know how the product is. after reading more detailed information included with the product, it says not recommended for the pool because the clorine could effect/shorten the product life. it seems that the ad shows the coolaroo shade being used next to the pool. and that's what we bought it for. not sure what to do with them now - still siting in the box next to the door gathering dust.... oh, well. i'm sure its a great product, just not for us.   \n",
       "27443  leaves the readers hungry for more.: it's weird really how i got so into this book. one of my friends who just so happened read the book was begging me to read it. now, don't get me wrong i love fantasy stories especially ones that are about these blood suckers but after hearing my friend's summary of it i don't know i just felt uninterested.pffft...boy was i glad my friend's the persisting type. she practically lunged the book at me. so as to not annoy her more, i read her copy of the book and i found myself entralled by it. i could not stop reading it!after finishing it i felt saddened that it was finished. i wanted more! i wanted to know what happened next.i gave the book back to my friend and straight away got myself a copy of twilight. it's really that good. i love it.trust me no matter how 'off' the summary might seem like you would not feel dissatisfied by its contents.   \n",
       "29215                                                                                                                                                                                                                                                                                                                                                                                                                        emotionally-distant author: for a memoir, the author is very removed from the experiences she writes about. she conveys little if any emotion about what must have been a very lonely and often frightening existance (especially given her age) in a strange land with a mad and eventually abusive husband, a young child who was often extremely sick and with the responsibilites of running a hacienda. although her writing is beautiful at times, the author never really connected with me.   \n",
       "\n",
       "       labels  y_pred  \n",
       "12847       1       0  \n",
       "14827       1       0  \n",
       "18809       0       1  \n",
       "27443       1       0  \n",
       "29215       0       1  "
      ]
     },
     "execution_count": 8,
     "metadata": {},
     "output_type": "execute_result"
    }
   ],
   "source": [
    "# Select the 5 random observations from the test set where model failed to predict the label correctly\n",
    "\n",
    "pd.set_option('display.max_colwidth', None)\n",
    "# test[test[\"labels\"] != test[\"y_pred\"]].sample(5)\n",
    "indices = [27443, 29215, 14827 ,18809 ,12847]\n",
    "test[test.index.isin(indices)]"
   ]
  },
  {
   "attachments": {},
   "cell_type": "markdown",
   "metadata": {},
   "source": [
    " It seems tf-idf SVM can capture most of the reviews correctly but it seems from the errors it cannot perfectly capture the the meaning of the reviews. Whenever there are some words that are associated with negative label used in a positive rating SVM fail to understand the overall context. \n",
    " \n",
    " SVM alignes the data points based on their sparse tf-idf matrix and creates a hyperplane to classify different documents and some of the words which are labeled with negative sentiments are drafting the position of a positive review into negative ones. Tf-idf SVM works well when data has clear and linear seperability and the task becomes harder when reviews become ironic or the context is positive but words are negative. \n",
    " \n",
    " To overcome this problem BERT transformers would be a better option because they are better capturing the context and semantics. BERT captures the semantic meaning and contextual information of words by considering their surrounding words."
   ]
  }
 ],
 "metadata": {
  "kernelspec": {
   "display_name": "python310",
   "language": "python",
   "name": "python3"
  },
  "language_info": {
   "codemirror_mode": {
    "name": "ipython",
    "version": 3
   },
   "file_extension": ".py",
   "mimetype": "text/x-python",
   "name": "python",
   "nbconvert_exporter": "python",
   "pygments_lexer": "ipython3",
   "version": "3.10.6"
  },
  "orig_nbformat": 4
 },
 "nbformat": 4,
 "nbformat_minor": 2
}
