{
 "cells": [
  {
   "cell_type": "code",
   "execution_count": 1,
   "metadata": {},
   "outputs": [
    {
     "name": "stderr",
     "output_type": "stream",
     "text": [
      "2023-05-12 22:26:53.543696: I tensorflow/core/platform/cpu_feature_guard.cc:193] This TensorFlow binary is optimized with oneAPI Deep Neural Network Library (oneDNN) to use the following CPU instructions in performance-critical operations:  SSE4.1 SSE4.2 AVX AVX2 FMA\n",
      "To enable them in other operations, rebuild TensorFlow with the appropriate compiler flags.\n",
      "/tmp/ipykernel_172912/2081156504.py:17: DeprecationWarning: `import kerastuner` is deprecated, please use `import keras_tuner`.\n",
      "  from kerastuner import HyperParameters\n",
      "/home/ege/.local/lib/python3.10/site-packages/tqdm/auto.py:21: TqdmWarning: IProgress not found. Please update jupyter and ipywidgets. See https://ipywidgets.readthedocs.io/en/stable/user_install.html\n",
      "  from .autonotebook import tqdm as notebook_tqdm\n"
     ]
    }
   ],
   "source": [
    "import tensorflow as tf\n",
    "from tensorflow.keras.layers import Dense\n",
    "from tensorflow.keras import regularizers\n",
    "from tensorflow.keras.optimizers import Adam\n",
    "from tensorflow.keras.losses import Hinge\n",
    "\n",
    "from sklearn.feature_extraction.text import TfidfVectorizer\n",
    "from sklearn.datasets import fetch_20newsgroups\n",
    "from sklearn.model_selection import train_test_split\n",
    "import string\n",
    "\n",
    "from nltk.corpus import stopwords\n",
    "\n",
    "import numpy as np\n",
    "import pandas as pd\n",
    "import keras_tuner as kt\n",
    "from kerastuner import HyperParameters\n",
    "import torch\n",
    "from kerastuner.tuners import RandomSearch"
   ]
  },
  {
   "cell_type": "code",
   "execution_count": 2,
   "metadata": {},
   "outputs": [],
   "source": [
    "# Define SVM model\n",
    "def svm_model(hp):\n",
    "    model = tf.keras.Sequential()\n",
    "    model.add(Dense(units=hp.Int('units', 64, 256, step=32), activation='relu', kernel_regularizer=regularizers.l2(hp.Float('l2', 0.001, 0.01, step=0.001))))\n",
    "    model.add(Dense(units=1, activation='linear'))\n",
    "    model.compile(optimizer=Adam(hp.Choice('learning_rate', values=[1e-3, 1e-4])), loss=Hinge(), metrics=['accuracy'])\n",
    "    return model\n",
    "\n",
    "def clean_text(text):\n",
    "    ''' \n",
    "    Some basic text cleaning phases this function should be applied to the text column\n",
    "    of the data\n",
    "    '''\n",
    "    # lower text\n",
    "    text = text.lower()\n",
    "    # tokenize text and remove puncutation\n",
    "    text = [word.strip(string.punctuation) for word in text.split(\" \")]\n",
    "    # remove words that contain numbers\n",
    "    text = [word for word in text if not any(c.isdigit() for c in word)]\n",
    "    # remove stop words\n",
    "    stop = set(stopwords.words('english'))\n",
    "    stop = [w for w in stop if w not in ['not', 'no']]\n",
    "    text = [x for x in text if (x not in stop)]\n",
    "    # remove empty tokens\n",
    "    text = [t for t in text if len(t) > 0]\n",
    "    # remove words with only one letter\n",
    "    text = [t for t in text if len(t) > 1]\n",
    "    # join all\n",
    "    text = \" \".join(text)\n",
    "    # tokenize the text\n",
    "    #text = text.split()\n",
    "    return(text)\n",
    "\n",
    "def apply_cleaning(X_train):\n",
    "    '''\n",
    "    With this fonction we apply the clean_text function to the text column of the data\n",
    "    and it gives as output the cleaned data for each row of the text column\n",
    "    '''\n",
    "    X_train = X_train.apply(lambda x: clean_text(x))\n",
    "    return(X_train)"
   ]
  },
  {
   "cell_type": "code",
   "execution_count": 3,
   "metadata": {},
   "outputs": [],
   "source": [
    "train = pd.read_csv('train_data.csv', nrows=1000)\n",
    "X_train, X_test, y_train, y_test = train_test_split(train[\"sentences\"], train[\"labels\"], test_size = 0.10, random_state = 42)\n",
    "del train\n",
    "X_train = apply_cleaning(X_train)\n",
    "X_test = apply_cleaning(X_test)"
   ]
  },
  {
   "cell_type": "code",
   "execution_count": 4,
   "metadata": {},
   "outputs": [],
   "source": [
    "# Convert text data to TF-IDF features\n",
    "tfidf = TfidfVectorizer(stop_words='english', max_features=5000)\n",
    "X_train_tfidf = tfidf.fit_transform(X_train)\n",
    "X_test_tfidf = tfidf.transform(X_test)"
   ]
  },
  {
   "cell_type": "code",
   "execution_count": 5,
   "metadata": {},
   "outputs": [
    {
     "name": "stderr",
     "output_type": "stream",
     "text": [
      "2023-05-12 22:27:08.960107: I tensorflow/stream_executor/cuda/cuda_gpu_executor.cc:966] could not open file to read NUMA node: /sys/bus/pci/devices/0000:01:00.0/numa_node\n",
      "Your kernel may have been built without NUMA support.\n",
      "2023-05-12 22:27:08.966257: I tensorflow/stream_executor/cuda/cuda_gpu_executor.cc:966] could not open file to read NUMA node: /sys/bus/pci/devices/0000:01:00.0/numa_node\n",
      "Your kernel may have been built without NUMA support.\n",
      "2023-05-12 22:27:08.966335: I tensorflow/stream_executor/cuda/cuda_gpu_executor.cc:966] could not open file to read NUMA node: /sys/bus/pci/devices/0000:01:00.0/numa_node\n",
      "Your kernel may have been built without NUMA support.\n",
      "2023-05-12 22:27:08.968447: I tensorflow/core/platform/cpu_feature_guard.cc:193] This TensorFlow binary is optimized with oneAPI Deep Neural Network Library (oneDNN) to use the following CPU instructions in performance-critical operations:  SSE4.1 SSE4.2 AVX AVX2 FMA\n",
      "To enable them in other operations, rebuild TensorFlow with the appropriate compiler flags.\n",
      "2023-05-12 22:27:08.969479: I tensorflow/stream_executor/cuda/cuda_gpu_executor.cc:966] could not open file to read NUMA node: /sys/bus/pci/devices/0000:01:00.0/numa_node\n",
      "Your kernel may have been built without NUMA support.\n",
      "2023-05-12 22:27:08.969576: I tensorflow/stream_executor/cuda/cuda_gpu_executor.cc:966] could not open file to read NUMA node: /sys/bus/pci/devices/0000:01:00.0/numa_node\n",
      "Your kernel may have been built without NUMA support.\n",
      "2023-05-12 22:27:08.969631: I tensorflow/stream_executor/cuda/cuda_gpu_executor.cc:966] could not open file to read NUMA node: /sys/bus/pci/devices/0000:01:00.0/numa_node\n",
      "Your kernel may have been built without NUMA support.\n",
      "2023-05-12 22:27:11.740864: I tensorflow/stream_executor/cuda/cuda_gpu_executor.cc:966] could not open file to read NUMA node: /sys/bus/pci/devices/0000:01:00.0/numa_node\n",
      "Your kernel may have been built without NUMA support.\n",
      "2023-05-12 22:27:11.741014: I tensorflow/stream_executor/cuda/cuda_gpu_executor.cc:966] could not open file to read NUMA node: /sys/bus/pci/devices/0000:01:00.0/numa_node\n",
      "Your kernel may have been built without NUMA support.\n",
      "2023-05-12 22:27:11.741024: I tensorflow/core/common_runtime/gpu/gpu_device.cc:1700] Could not identify NUMA node of platform GPU id 0, defaulting to 0.  Your kernel may not have been built with NUMA support.\n",
      "2023-05-12 22:27:11.741123: I tensorflow/stream_executor/cuda/cuda_gpu_executor.cc:966] could not open file to read NUMA node: /sys/bus/pci/devices/0000:01:00.0/numa_node\n",
      "Your kernel may have been built without NUMA support.\n",
      "2023-05-12 22:27:11.741214: I tensorflow/core/common_runtime/gpu/gpu_device.cc:1616] Created device /job:localhost/replica:0/task:0/device:GPU:0 with 3071 MB memory:  -> device: 0, name: NVIDIA GeForce RTX 3060 Laptop GPU, pci bus id: 0000:01:00.0, compute capability: 8.6\n"
     ]
    }
   ],
   "source": [
    "# Convert data to TensorFlow Dataset format\n",
    "train_ds = tf.data.Dataset.from_tensor_slices((X_train_tfidf.toarray(), y_train))\n",
    "test_ds = tf.data.Dataset.from_tensor_slices((X_test_tfidf.toarray(), y_test))\n"
   ]
  },
  {
   "cell_type": "code",
   "execution_count": 6,
   "metadata": {},
   "outputs": [
    {
     "name": "stdout",
     "output_type": "stream",
     "text": [
      "INFO:tensorflow:Reloading Oracle from existing project my_dir/svm_tuning/oracle.json\n"
     ]
    },
    {
     "ename": "ValueError",
     "evalue": "`sampling` can only be set on an `Int` when `step=1`.",
     "output_type": "error",
     "traceback": [
      "\u001b[0;31m---------------------------------------------------------------------------\u001b[0m",
      "\u001b[0;31mValueError\u001b[0m                                Traceback (most recent call last)",
      "\u001b[1;32m/home/ege/datamining1/Amazon Reviews/SVM_tensorflow.ipynb Cell 6\u001b[0m in \u001b[0;36m8\n\u001b[1;32m      <a href='vscode-notebook-cell://wsl%2Bubuntu-22.04/home/ege/datamining1/Amazon%20Reviews/SVM_tensorflow.ipynb#W5sdnNjb2RlLXJlbW90ZQ%3D%3D?line=4'>5</a>\u001b[0m hp\u001b[39m.\u001b[39mChoice(\u001b[39m'\u001b[39m\u001b[39msvc_kernel\u001b[39m\u001b[39m'\u001b[39m, [\u001b[39m'\u001b[39m\u001b[39mlinear\u001b[39m\u001b[39m'\u001b[39m, \u001b[39m'\u001b[39m\u001b[39mrbf\u001b[39m\u001b[39m'\u001b[39m])\n\u001b[1;32m      <a href='vscode-notebook-cell://wsl%2Bubuntu-22.04/home/ege/datamining1/Amazon%20Reviews/SVM_tensorflow.ipynb#W5sdnNjb2RlLXJlbW90ZQ%3D%3D?line=6'>7</a>\u001b[0m \u001b[39m# Define the tuner\u001b[39;00m\n\u001b[0;32m----> <a href='vscode-notebook-cell://wsl%2Bubuntu-22.04/home/ege/datamining1/Amazon%20Reviews/SVM_tensorflow.ipynb#W5sdnNjb2RlLXJlbW90ZQ%3D%3D?line=7'>8</a>\u001b[0m tuner \u001b[39m=\u001b[39m RandomSearch(\n\u001b[1;32m      <a href='vscode-notebook-cell://wsl%2Bubuntu-22.04/home/ege/datamining1/Amazon%20Reviews/SVM_tensorflow.ipynb#W5sdnNjb2RlLXJlbW90ZQ%3D%3D?line=8'>9</a>\u001b[0m     svm_model(hp),\n\u001b[1;32m     <a href='vscode-notebook-cell://wsl%2Bubuntu-22.04/home/ege/datamining1/Amazon%20Reviews/SVM_tensorflow.ipynb#W5sdnNjb2RlLXJlbW90ZQ%3D%3D?line=9'>10</a>\u001b[0m     objective\u001b[39m=\u001b[39;49m\u001b[39m'\u001b[39;49m\u001b[39mval_accuracy\u001b[39;49m\u001b[39m'\u001b[39;49m,\n\u001b[1;32m     <a href='vscode-notebook-cell://wsl%2Bubuntu-22.04/home/ege/datamining1/Amazon%20Reviews/SVM_tensorflow.ipynb#W5sdnNjb2RlLXJlbW90ZQ%3D%3D?line=10'>11</a>\u001b[0m     max_trials\u001b[39m=\u001b[39;49m\u001b[39m10\u001b[39;49m,\n\u001b[1;32m     <a href='vscode-notebook-cell://wsl%2Bubuntu-22.04/home/ege/datamining1/Amazon%20Reviews/SVM_tensorflow.ipynb#W5sdnNjb2RlLXJlbW90ZQ%3D%3D?line=11'>12</a>\u001b[0m     hyperparameters\u001b[39m=\u001b[39;49mhp,\n\u001b[1;32m     <a href='vscode-notebook-cell://wsl%2Bubuntu-22.04/home/ege/datamining1/Amazon%20Reviews/SVM_tensorflow.ipynb#W5sdnNjb2RlLXJlbW90ZQ%3D%3D?line=12'>13</a>\u001b[0m     seed\u001b[39m=\u001b[39;49m\u001b[39m42\u001b[39;49m,\n\u001b[1;32m     <a href='vscode-notebook-cell://wsl%2Bubuntu-22.04/home/ege/datamining1/Amazon%20Reviews/SVM_tensorflow.ipynb#W5sdnNjb2RlLXJlbW90ZQ%3D%3D?line=13'>14</a>\u001b[0m     directory\u001b[39m=\u001b[39;49m\u001b[39m'\u001b[39;49m\u001b[39mmy_dir\u001b[39;49m\u001b[39m'\u001b[39;49m,\n\u001b[1;32m     <a href='vscode-notebook-cell://wsl%2Bubuntu-22.04/home/ege/datamining1/Amazon%20Reviews/SVM_tensorflow.ipynb#W5sdnNjb2RlLXJlbW90ZQ%3D%3D?line=14'>15</a>\u001b[0m     project_name\u001b[39m=\u001b[39;49m\u001b[39m'\u001b[39;49m\u001b[39msvm_tuning\u001b[39;49m\u001b[39m'\u001b[39;49m)\n\u001b[1;32m     <a href='vscode-notebook-cell://wsl%2Bubuntu-22.04/home/ege/datamining1/Amazon%20Reviews/SVM_tensorflow.ipynb#W5sdnNjb2RlLXJlbW90ZQ%3D%3D?line=16'>17</a>\u001b[0m \u001b[39m# Perform hyperparameter tuning\u001b[39;00m\n\u001b[1;32m     <a href='vscode-notebook-cell://wsl%2Bubuntu-22.04/home/ege/datamining1/Amazon%20Reviews/SVM_tensorflow.ipynb#W5sdnNjb2RlLXJlbW90ZQ%3D%3D?line=17'>18</a>\u001b[0m tuner\u001b[39m.\u001b[39msearch(train_ds\u001b[39m.\u001b[39mbatch(\u001b[39m32\u001b[39m), validation_data\u001b[39m=\u001b[39mtest_ds\u001b[39m.\u001b[39mbatch(\u001b[39m32\u001b[39m), epochs\u001b[39m=\u001b[39m\u001b[39m3\u001b[39m)\n",
      "File \u001b[0;32m~/miniconda3/envs/dataminingv/lib/python3.10/site-packages/keras_tuner/tuners/randomsearch.py:145\u001b[0m, in \u001b[0;36mRandomSearch.__init__\u001b[0;34m(self, hypermodel, objective, max_trials, seed, hyperparameters, tune_new_entries, allow_new_entries, **kwargs)\u001b[0m\n\u001b[1;32m    136\u001b[0m \u001b[39mself\u001b[39m\u001b[39m.\u001b[39mseed \u001b[39m=\u001b[39m seed\n\u001b[1;32m    137\u001b[0m oracle \u001b[39m=\u001b[39m RandomSearchOracle(\n\u001b[1;32m    138\u001b[0m     objective\u001b[39m=\u001b[39mobjective,\n\u001b[1;32m    139\u001b[0m     max_trials\u001b[39m=\u001b[39mmax_trials,\n\u001b[0;32m   (...)\u001b[0m\n\u001b[1;32m    143\u001b[0m     allow_new_entries\u001b[39m=\u001b[39mallow_new_entries,\n\u001b[1;32m    144\u001b[0m )\n\u001b[0;32m--> 145\u001b[0m \u001b[39msuper\u001b[39;49m(RandomSearch, \u001b[39mself\u001b[39;49m)\u001b[39m.\u001b[39;49m\u001b[39m__init__\u001b[39;49m(oracle, hypermodel, \u001b[39m*\u001b[39;49m\u001b[39m*\u001b[39;49mkwargs)\n",
      "File \u001b[0;32m~/miniconda3/envs/dataminingv/lib/python3.10/site-packages/keras_tuner/engine/tuner.py:110\u001b[0m, in \u001b[0;36mTuner.__init__\u001b[0;34m(self, oracle, hypermodel, max_model_size, optimizer, loss, metrics, distribution_strategy, directory, project_name, logger, tuner_id, overwrite, executions_per_trial)\u001b[0m\n\u001b[1;32m    102\u001b[0m \u001b[39mif\u001b[39;00m hypermodel \u001b[39mis\u001b[39;00m \u001b[39mNone\u001b[39;00m \u001b[39mand\u001b[39;00m \u001b[39mself\u001b[39m\u001b[39m.\u001b[39m\u001b[39m__class__\u001b[39m\u001b[39m.\u001b[39mrun_trial \u001b[39mis\u001b[39;00m Tuner\u001b[39m.\u001b[39mrun_trial:\n\u001b[1;32m    103\u001b[0m     \u001b[39mraise\u001b[39;00m \u001b[39mValueError\u001b[39;00m(\n\u001b[1;32m    104\u001b[0m         \u001b[39m\"\u001b[39m\u001b[39mReceived `hypermodel=None`. We only allow not specifying \u001b[39m\u001b[39m\"\u001b[39m\n\u001b[1;32m    105\u001b[0m         \u001b[39m\"\u001b[39m\u001b[39m`hypermodel` if the user defines the search space in \u001b[39m\u001b[39m\"\u001b[39m\n\u001b[1;32m    106\u001b[0m         \u001b[39m\"\u001b[39m\u001b[39m`Tuner.run_trial()` by subclassing a `Tuner` class without \u001b[39m\u001b[39m\"\u001b[39m\n\u001b[1;32m    107\u001b[0m         \u001b[39m\"\u001b[39m\u001b[39musing a `HyperModel` instance.\u001b[39m\u001b[39m\"\u001b[39m\n\u001b[1;32m    108\u001b[0m     )\n\u001b[0;32m--> 110\u001b[0m \u001b[39msuper\u001b[39;49m(Tuner, \u001b[39mself\u001b[39;49m)\u001b[39m.\u001b[39;49m\u001b[39m__init__\u001b[39;49m(\n\u001b[1;32m    111\u001b[0m     oracle\u001b[39m=\u001b[39;49moracle,\n\u001b[1;32m    112\u001b[0m     hypermodel\u001b[39m=\u001b[39;49mhypermodel,\n\u001b[1;32m    113\u001b[0m     directory\u001b[39m=\u001b[39;49mdirectory,\n\u001b[1;32m    114\u001b[0m     project_name\u001b[39m=\u001b[39;49mproject_name,\n\u001b[1;32m    115\u001b[0m     logger\u001b[39m=\u001b[39;49mlogger,\n\u001b[1;32m    116\u001b[0m     overwrite\u001b[39m=\u001b[39;49moverwrite,\n\u001b[1;32m    117\u001b[0m )\n\u001b[1;32m    119\u001b[0m \u001b[39mself\u001b[39m\u001b[39m.\u001b[39mmax_model_size \u001b[39m=\u001b[39m max_model_size\n\u001b[1;32m    120\u001b[0m \u001b[39mself\u001b[39m\u001b[39m.\u001b[39moptimizer \u001b[39m=\u001b[39m optimizer\n",
      "File \u001b[0;32m~/miniconda3/envs/dataminingv/lib/python3.10/site-packages/keras_tuner/engine/base_tuner.py:82\u001b[0m, in \u001b[0;36mBaseTuner.__init__\u001b[0;34m(self, oracle, hypermodel, directory, project_name, logger, overwrite)\u001b[0m\n\u001b[1;32m     77\u001b[0m     \u001b[39mraise\u001b[39;00m \u001b[39mValueError\u001b[39;00m(\n\u001b[1;32m     78\u001b[0m         \u001b[39m\"\u001b[39m\u001b[39mExpected `oracle` argument to be an instance of `Oracle`. \u001b[39m\u001b[39m\"\u001b[39m\n\u001b[1;32m     79\u001b[0m         \u001b[39mf\u001b[39m\u001b[39m\"\u001b[39m\u001b[39mReceived: oracle=\u001b[39m\u001b[39m{\u001b[39;00moracle\u001b[39m}\u001b[39;00m\u001b[39m (of type (\u001b[39m\u001b[39m{\u001b[39;00m\u001b[39mtype\u001b[39m(oracle)\u001b[39m}\u001b[39;00m\u001b[39m).\u001b[39m\u001b[39m\"\u001b[39m\n\u001b[1;32m     80\u001b[0m     )\n\u001b[1;32m     81\u001b[0m \u001b[39mself\u001b[39m\u001b[39m.\u001b[39moracle \u001b[39m=\u001b[39m oracle\n\u001b[0;32m---> 82\u001b[0m \u001b[39mself\u001b[39;49m\u001b[39m.\u001b[39;49moracle\u001b[39m.\u001b[39;49m_set_project_dir(\n\u001b[1;32m     83\u001b[0m     \u001b[39mself\u001b[39;49m\u001b[39m.\u001b[39;49mdirectory, \u001b[39mself\u001b[39;49m\u001b[39m.\u001b[39;49mproject_name, overwrite\u001b[39m=\u001b[39;49moverwrite\n\u001b[1;32m     84\u001b[0m )\n\u001b[1;32m     86\u001b[0m \u001b[39m# Run in distributed mode.\u001b[39;00m\n\u001b[1;32m     87\u001b[0m \u001b[39mif\u001b[39;00m dist_utils\u001b[39m.\u001b[39mis_chief_oracle():\n\u001b[1;32m     88\u001b[0m     \u001b[39m# Blocks forever.\u001b[39;00m\n",
      "File \u001b[0;32m~/miniconda3/envs/dataminingv/lib/python3.10/site-packages/keras_tuner/engine/oracle.py:358\u001b[0m, in \u001b[0;36mOracle._set_project_dir\u001b[0;34m(self, directory, project_name, overwrite)\u001b[0m\n\u001b[1;32m    352\u001b[0m \u001b[39mif\u001b[39;00m \u001b[39mnot\u001b[39;00m overwrite \u001b[39mand\u001b[39;00m tf\u001b[39m.\u001b[39mio\u001b[39m.\u001b[39mgfile\u001b[39m.\u001b[39mexists(\u001b[39mself\u001b[39m\u001b[39m.\u001b[39m_get_oracle_fname()):\n\u001b[1;32m    353\u001b[0m     tf\u001b[39m.\u001b[39mget_logger()\u001b[39m.\u001b[39minfo(\n\u001b[1;32m    354\u001b[0m         \u001b[39m\"\u001b[39m\u001b[39mReloading Oracle from existing project \u001b[39m\u001b[39m{}\u001b[39;00m\u001b[39m\"\u001b[39m\u001b[39m.\u001b[39mformat(\n\u001b[1;32m    355\u001b[0m             \u001b[39mself\u001b[39m\u001b[39m.\u001b[39m_get_oracle_fname()\n\u001b[1;32m    356\u001b[0m         )\n\u001b[1;32m    357\u001b[0m     )\n\u001b[0;32m--> 358\u001b[0m     \u001b[39mself\u001b[39;49m\u001b[39m.\u001b[39;49mreload()\n",
      "File \u001b[0;32m~/miniconda3/envs/dataminingv/lib/python3.10/site-packages/keras_tuner/engine/oracle.py:380\u001b[0m, in \u001b[0;36mOracle.reload\u001b[0;34m(self)\u001b[0m\n\u001b[1;32m    378\u001b[0m         trial_data \u001b[39m=\u001b[39m f\u001b[39m.\u001b[39mread()\n\u001b[1;32m    379\u001b[0m     trial_state \u001b[39m=\u001b[39m json\u001b[39m.\u001b[39mloads(trial_data)\n\u001b[0;32m--> 380\u001b[0m     trial \u001b[39m=\u001b[39m trial_lib\u001b[39m.\u001b[39;49mTrial\u001b[39m.\u001b[39;49mfrom_state(trial_state)\n\u001b[1;32m    381\u001b[0m     \u001b[39mself\u001b[39m\u001b[39m.\u001b[39mtrials[trial\u001b[39m.\u001b[39mtrial_id] \u001b[39m=\u001b[39m trial\n\u001b[1;32m    382\u001b[0m \u001b[39mtry\u001b[39;00m:\n",
      "File \u001b[0;32m~/miniconda3/envs/dataminingv/lib/python3.10/site-packages/keras_tuner/engine/trial.py:86\u001b[0m, in \u001b[0;36mTrial.from_state\u001b[0;34m(cls, state)\u001b[0m\n\u001b[1;32m     83\u001b[0m \u001b[39m@classmethod\u001b[39m\n\u001b[1;32m     84\u001b[0m \u001b[39mdef\u001b[39;00m \u001b[39mfrom_state\u001b[39m(\u001b[39mcls\u001b[39m, state):\n\u001b[1;32m     85\u001b[0m     trial \u001b[39m=\u001b[39m \u001b[39mcls\u001b[39m(hyperparameters\u001b[39m=\u001b[39m\u001b[39mNone\u001b[39;00m)\n\u001b[0;32m---> 86\u001b[0m     trial\u001b[39m.\u001b[39;49mset_state(state)\n\u001b[1;32m     87\u001b[0m     \u001b[39mreturn\u001b[39;00m trial\n",
      "File \u001b[0;32m~/miniconda3/envs/dataminingv/lib/python3.10/site-packages/keras_tuner/engine/trial.py:76\u001b[0m, in \u001b[0;36mTrial.set_state\u001b[0;34m(self, state)\u001b[0m\n\u001b[1;32m     74\u001b[0m \u001b[39mdef\u001b[39;00m \u001b[39mset_state\u001b[39m(\u001b[39mself\u001b[39m, state):\n\u001b[1;32m     75\u001b[0m     \u001b[39mself\u001b[39m\u001b[39m.\u001b[39mtrial_id \u001b[39m=\u001b[39m state[\u001b[39m\"\u001b[39m\u001b[39mtrial_id\u001b[39m\u001b[39m\"\u001b[39m]\n\u001b[0;32m---> 76\u001b[0m     hp \u001b[39m=\u001b[39m hp_module\u001b[39m.\u001b[39;49mHyperParameters\u001b[39m.\u001b[39;49mfrom_config(state[\u001b[39m\"\u001b[39;49m\u001b[39mhyperparameters\u001b[39;49m\u001b[39m\"\u001b[39;49m])\n\u001b[1;32m     77\u001b[0m     \u001b[39mself\u001b[39m\u001b[39m.\u001b[39mhyperparameters \u001b[39m=\u001b[39m hp\n\u001b[1;32m     78\u001b[0m     \u001b[39mself\u001b[39m\u001b[39m.\u001b[39mmetrics \u001b[39m=\u001b[39m metrics_tracking\u001b[39m.\u001b[39mMetricsTracker\u001b[39m.\u001b[39mfrom_config(state[\u001b[39m\"\u001b[39m\u001b[39mmetrics\u001b[39m\u001b[39m\"\u001b[39m])\n",
      "File \u001b[0;32m~/miniconda3/envs/dataminingv/lib/python3.10/site-packages/keras_tuner/engine/hyperparameters.py:970\u001b[0m, in \u001b[0;36mHyperParameters.from_config\u001b[0;34m(cls, config)\u001b[0m\n\u001b[1;32m    968\u001b[0m hps \u001b[39m=\u001b[39m \u001b[39mcls\u001b[39m()\n\u001b[1;32m    969\u001b[0m \u001b[39mfor\u001b[39;00m p \u001b[39min\u001b[39;00m config[\u001b[39m\"\u001b[39m\u001b[39mspace\u001b[39m\u001b[39m\"\u001b[39m]:\n\u001b[0;32m--> 970\u001b[0m     p \u001b[39m=\u001b[39m deserialize(p)\n\u001b[1;32m    971\u001b[0m     hps\u001b[39m.\u001b[39m_hps[p\u001b[39m.\u001b[39mname]\u001b[39m.\u001b[39mappend(p)\n\u001b[1;32m    972\u001b[0m     hps\u001b[39m.\u001b[39m_space\u001b[39m.\u001b[39mappend(p)\n",
      "File \u001b[0;32m~/miniconda3/envs/dataminingv/lib/python3.10/site-packages/keras_tuner/engine/hyperparameters.py:1122\u001b[0m, in \u001b[0;36mdeserialize\u001b[0;34m(config)\u001b[0m\n\u001b[1;32m   1120\u001b[0m     \u001b[39mreturn\u001b[39;00m config  \u001b[39m# Already deserialized.\u001b[39;00m\n\u001b[1;32m   1121\u001b[0m module_objects \u001b[39m=\u001b[39m {\u001b[39mcls\u001b[39m\u001b[39m.\u001b[39m\u001b[39m__name__\u001b[39m: \u001b[39mcls\u001b[39m \u001b[39mfor\u001b[39;00m \u001b[39mcls\u001b[39m \u001b[39min\u001b[39;00m objects}\n\u001b[0;32m-> 1122\u001b[0m \u001b[39mreturn\u001b[39;00m keras\u001b[39m.\u001b[39;49mutils\u001b[39m.\u001b[39;49mdeserialize_keras_object(\n\u001b[1;32m   1123\u001b[0m     config, module_objects\u001b[39m=\u001b[39;49mmodule_objects\n\u001b[1;32m   1124\u001b[0m )\n",
      "File \u001b[0;32m~/miniconda3/envs/dataminingv/lib/python3.10/site-packages/keras/utils/generic_utils.py:744\u001b[0m, in \u001b[0;36mdeserialize_keras_object\u001b[0;34m(identifier, module_objects, custom_objects, printable_module_name)\u001b[0m\n\u001b[1;32m    742\u001b[0m     \u001b[39melse\u001b[39;00m:\n\u001b[1;32m    743\u001b[0m         \u001b[39mwith\u001b[39;00m CustomObjectScope(custom_objects):\n\u001b[0;32m--> 744\u001b[0m             deserialized_obj \u001b[39m=\u001b[39m \u001b[39mcls\u001b[39;49m\u001b[39m.\u001b[39;49mfrom_config(cls_config)\n\u001b[1;32m    745\u001b[0m \u001b[39melse\u001b[39;00m:\n\u001b[1;32m    746\u001b[0m     \u001b[39m# Then `cls` may be a function returning a class.\u001b[39;00m\n\u001b[1;32m    747\u001b[0m     \u001b[39m# in this case by convention `config` holds\u001b[39;00m\n\u001b[1;32m    748\u001b[0m     \u001b[39m# the kwargs of the function.\u001b[39;00m\n\u001b[1;32m    749\u001b[0m     custom_objects \u001b[39m=\u001b[39m custom_objects \u001b[39mor\u001b[39;00m {}\n",
      "File \u001b[0;32m~/miniconda3/envs/dataminingv/lib/python3.10/site-packages/keras_tuner/engine/hyperparameters.py:104\u001b[0m, in \u001b[0;36mHyperParameter.from_config\u001b[0;34m(cls, config)\u001b[0m\n\u001b[1;32m    102\u001b[0m \u001b[39m@classmethod\u001b[39m\n\u001b[1;32m    103\u001b[0m \u001b[39mdef\u001b[39;00m \u001b[39mfrom_config\u001b[39m(\u001b[39mcls\u001b[39m, config):\n\u001b[0;32m--> 104\u001b[0m     \u001b[39mreturn\u001b[39;00m \u001b[39mcls\u001b[39;49m(\u001b[39m*\u001b[39;49m\u001b[39m*\u001b[39;49mconfig)\n",
      "File \u001b[0;32m~/miniconda3/envs/dataminingv/lib/python3.10/site-packages/keras_tuner/engine/hyperparameters.py:261\u001b[0m, in \u001b[0;36mInt.__init__\u001b[0;34m(self, name, min_value, max_value, step, sampling, default, **kwargs)\u001b[0m\n\u001b[1;32m    259\u001b[0m \u001b[39mself\u001b[39m\u001b[39m.\u001b[39mmin_value \u001b[39m=\u001b[39m _check_int(min_value, arg\u001b[39m=\u001b[39m\u001b[39m\"\u001b[39m\u001b[39mmin_value\u001b[39m\u001b[39m\"\u001b[39m)\n\u001b[1;32m    260\u001b[0m \u001b[39mself\u001b[39m\u001b[39m.\u001b[39mstep \u001b[39m=\u001b[39m _check_int(step, arg\u001b[39m=\u001b[39m\u001b[39m\"\u001b[39m\u001b[39mstep\u001b[39m\u001b[39m\"\u001b[39m)\n\u001b[0;32m--> 261\u001b[0m \u001b[39mself\u001b[39m\u001b[39m.\u001b[39msampling \u001b[39m=\u001b[39m _check_sampling_arg(\n\u001b[1;32m    262\u001b[0m     sampling, step, min_value, max_value, hp_type\u001b[39m=\u001b[39;49m\u001b[39m\"\u001b[39;49m\u001b[39mint\u001b[39;49m\u001b[39m\"\u001b[39;49m\n\u001b[1;32m    263\u001b[0m )\n",
      "File \u001b[0;32m~/miniconda3/envs/dataminingv/lib/python3.10/site-packages/keras_tuner/engine/hyperparameters.py:42\u001b[0m, in \u001b[0;36m_check_sampling_arg\u001b[0;34m(sampling, step, min_value, max_value, hp_type)\u001b[0m\n\u001b[1;32m     35\u001b[0m     \u001b[39mraise\u001b[39;00m \u001b[39mValueError\u001b[39;00m(\n\u001b[1;32m     36\u001b[0m         \u001b[39m\"\u001b[39m\u001b[39m`sampling` `min_value` \u001b[39m\u001b[39m\"\u001b[39m\n\u001b[1;32m     37\u001b[0m         \u001b[39m+\u001b[39m \u001b[39mstr\u001b[39m(min_value)\n\u001b[1;32m     38\u001b[0m         \u001b[39m+\u001b[39m \u001b[39m\"\u001b[39m\u001b[39m is greater than the `max_value` \u001b[39m\u001b[39m\"\u001b[39m\n\u001b[1;32m     39\u001b[0m         \u001b[39m+\u001b[39m \u001b[39mstr\u001b[39m(max_value)\n\u001b[1;32m     40\u001b[0m     )\n\u001b[1;32m     41\u001b[0m \u001b[39mif\u001b[39;00m hp_type \u001b[39m==\u001b[39m \u001b[39m\"\u001b[39m\u001b[39mint\u001b[39m\u001b[39m\"\u001b[39m \u001b[39mand\u001b[39;00m step \u001b[39m!=\u001b[39m \u001b[39m1\u001b[39m:\n\u001b[0;32m---> 42\u001b[0m     \u001b[39mraise\u001b[39;00m \u001b[39mValueError\u001b[39;00m(\u001b[39m\"\u001b[39m\u001b[39m`sampling` can only be set on an `Int` when `step=1`.\u001b[39m\u001b[39m\"\u001b[39m)\n\u001b[1;32m     43\u001b[0m \u001b[39mif\u001b[39;00m hp_type \u001b[39m!=\u001b[39m \u001b[39m\"\u001b[39m\u001b[39mint\u001b[39m\u001b[39m\"\u001b[39m \u001b[39mand\u001b[39;00m step \u001b[39mis\u001b[39;00m \u001b[39mnot\u001b[39;00m \u001b[39mNone\u001b[39;00m:\n\u001b[1;32m     44\u001b[0m     \u001b[39mraise\u001b[39;00m \u001b[39mValueError\u001b[39;00m(\n\u001b[1;32m     45\u001b[0m         \u001b[39m\"\u001b[39m\u001b[39m`sampling` and `step` cannot both be set, found \u001b[39m\u001b[39m\"\u001b[39m\n\u001b[1;32m     46\u001b[0m         \u001b[39m\"\u001b[39m\u001b[39m`sampling`: \u001b[39m\u001b[39m\"\u001b[39m \u001b[39m+\u001b[39m \u001b[39mstr\u001b[39m(sampling) \u001b[39m+\u001b[39m \u001b[39m\"\u001b[39m\u001b[39m, `step`: \u001b[39m\u001b[39m\"\u001b[39m \u001b[39m+\u001b[39m \u001b[39mstr\u001b[39m(step)\n\u001b[1;32m     47\u001b[0m     )\n",
      "\u001b[0;31mValueError\u001b[0m: `sampling` can only be set on an `Int` when `step=1`."
     ]
    },
    {
     "ename": "",
     "evalue": "",
     "output_type": "error",
     "traceback": [
      "\u001b[1;31mThe Kernel crashed while executing code in the the current cell or a previous cell. Please review the code in the cell(s) to identify a possible cause of the failure. Click <a href='https://aka.ms/vscodeJupyterKernelCrash'>here</a> for more info. View Jupyter <a href='command:jupyter.viewOutput'>log</a> for further details."
     ]
    }
   ],
   "source": [
    "# Define hyperparameter search space\n",
    "hp = HyperParameters()\n",
    "hp.Int('tfidf_max_features', 3000, 7000, sampling=None)\n",
    "hp.Choice('svc_C', [0.1, 1.0, 10.0])\n",
    "hp.Choice('svc_kernel', ['linear', 'rbf'])\n",
    "\n",
    "# Define the tuner\n",
    "tuner = RandomSearch(\n",
    "    svm_model(hp),\n",
    "    objective='val_accuracy',\n",
    "    max_trials=10,\n",
    "    hyperparameters=hp,\n",
    "    seed=42,\n",
    "    directory='my_dir',\n",
    "    project_name='svm_tuning')\n",
    "\n",
    "# Perform hyperparameter tuning\n",
    "tuner.search(train_ds.batch(32), validation_data=test_ds.batch(32), epochs=3)\n",
    "\n",
    "# Get best hyperparameters and train SVM model on full dataset\n",
    "best_hps = tuner.get_best_hyperparameters(num_trials=1)[0]\n",
    "model = svm_model(best_hps)\n",
    "model.fit(X_train_tfidf.toarray(), y_train) "
   ]
  },
  {
   "cell_type": "code",
   "execution_count": 9,
   "metadata": {},
   "outputs": [
    {
     "ename": "NameError",
     "evalue": "name 'tuner' is not defined",
     "output_type": "error",
     "traceback": [
      "\u001b[0;31m---------------------------------------------------------------------------\u001b[0m",
      "\u001b[0;31mNameError\u001b[0m                                 Traceback (most recent call last)",
      "\u001b[1;32m/home/ege/datamining1/Amazon Reviews/SVM_tensorflow.ipynb Cell 7\u001b[0m in \u001b[0;36m2\n\u001b[1;32m      <a href='vscode-notebook-cell://wsl%2Bubuntu-22.04/home/ege/datamining1/Amazon%20Reviews/SVM_tensorflow.ipynb#W6sdnNjb2RlLXJlbW90ZQ%3D%3D?line=0'>1</a>\u001b[0m \u001b[39m# Get all the trial summaries as a list of dictionaries\u001b[39;00m\n\u001b[0;32m----> <a href='vscode-notebook-cell://wsl%2Bubuntu-22.04/home/ege/datamining1/Amazon%20Reviews/SVM_tensorflow.ipynb#W6sdnNjb2RlLXJlbW90ZQ%3D%3D?line=1'>2</a>\u001b[0m trial_summaries \u001b[39m=\u001b[39m tuner\u001b[39m.\u001b[39mresults_summary()\n\u001b[1;32m      <a href='vscode-notebook-cell://wsl%2Bubuntu-22.04/home/ege/datamining1/Amazon%20Reviews/SVM_tensorflow.ipynb#W6sdnNjb2RlLXJlbW90ZQ%3D%3D?line=3'>4</a>\u001b[0m \u001b[39m# Convert the list of dictionaries to a pandas dataframe\u001b[39;00m\n\u001b[1;32m      <a href='vscode-notebook-cell://wsl%2Bubuntu-22.04/home/ege/datamining1/Amazon%20Reviews/SVM_tensorflow.ipynb#W6sdnNjb2RlLXJlbW90ZQ%3D%3D?line=4'>5</a>\u001b[0m df \u001b[39m=\u001b[39m pd\u001b[39m.\u001b[39mDataFrame\u001b[39m.\u001b[39mfrom_records(trial_summaries)\n",
      "\u001b[0;31mNameError\u001b[0m: name 'tuner' is not defined"
     ]
    }
   ],
   "source": [
    "# Get all the trial summaries as a list of dictionaries\n",
    "trial_summaries = tuner.results_summary()\n",
    "\n",
    "# Convert the list of dictionaries to a pandas dataframe\n",
    "df = pd.DataFrame.from_records(trial_summaries)\n",
    "\n",
    "# Display the dataframe\n",
    "display(df)\n"
   ]
  }
 ],
 "metadata": {
  "kernelspec": {
   "display_name": "datamining",
   "language": "python",
   "name": "python3"
  },
  "language_info": {
   "codemirror_mode": {
    "name": "ipython",
    "version": 3
   },
   "file_extension": ".py",
   "mimetype": "text/x-python",
   "name": "python",
   "nbconvert_exporter": "python",
   "pygments_lexer": "ipython3",
   "version": "3.10.6"
  },
  "orig_nbformat": 4
 },
 "nbformat": 4,
 "nbformat_minor": 2
}
