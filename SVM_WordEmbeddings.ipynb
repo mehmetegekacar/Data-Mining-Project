{
 "cells": [
  {
   "cell_type": "code",
   "execution_count": 1,
   "metadata": {},
   "outputs": [],
   "source": [
    "import pandas as pd\n",
    "import numpy as np\n",
    "import matplotlib.pyplot as plt\n",
    "import string\n",
    "from nltk.corpus import stopwords\n",
    "from sklearn.feature_extraction.text import TfidfVectorizer\n",
    "from sklearn.model_selection import train_test_split\n",
    "\n",
    "from sklearn.metrics import confusion_matrix\n",
    "from sklearn.svm import LinearSVC\n",
    "\n",
    "from sklearn.metrics import accuracy_score, roc_auc_score, precision_score, recall_score, f1_score\n",
    "from itertools import product\n",
    "import seaborn as sns\n",
    "from sklearn.metrics import roc_curve, auc\n",
    "from sklearn.feature_extraction.text import CountVectorizer, TfidfTransformer\n",
    "from gensim.models import Word2Vec"
   ]
  },
  {
   "attachments": {},
   "cell_type": "markdown",
   "metadata": {},
   "source": [
    "### We are defining some functions for preprocessing, cleaning and data structuring purposes"
   ]
  },
  {
   "cell_type": "code",
   "execution_count": 2,
   "metadata": {},
   "outputs": [],
   "source": [
    "def clean_text(text):\n",
    "    ''' \n",
    "    Some basic text cleaning phases this function should be applied to the text column\n",
    "    of the data\n",
    "    '''\n",
    "    # lower text\n",
    "    text = text.lower()\n",
    "    # tokenize text and remove puncutation\n",
    "    text = [word.strip(string.punctuation) for word in text.split(\" \")]\n",
    "    # remove words that contain numbers\n",
    "    text = [word for word in text if not any(c.isdigit() for c in word)]\n",
    "    # remove stop words\n",
    "    stop = set(stopwords.words('english'))\n",
    "    stop = [w for w in stop if w not in ['not', 'no']]\n",
    "    text = [x for x in text if (x not in stop)]\n",
    "    # remove empty tokens\n",
    "    text = [t for t in text if len(t) > 0]\n",
    "    # remove words with only one letter\n",
    "    text = [t for t in text if len(t) > 1]\n",
    "    # join all\n",
    "    text = \" \".join(text)\n",
    "    # tokenize the text\n",
    "    text = text.split()\n",
    "    return(text)\n",
    "def apply_cleaning(X_train):\n",
    "    '''\n",
    "    With this fonction we apply the clean_text function to the text column of the data\n",
    "    and it gives as output the cleaned data for each row of the text column\n",
    "    '''\n",
    "    X_train = X_train.apply(lambda x: clean_text(x))\n",
    "    return(X_train)\n",
    "\n",
    "def tfidf_featured_data(X_train):\n",
    "    ''''\n",
    "    No need to explain this function because we gonna use it in the pipeline automatically this function\n",
    "    used to add tf-idfs columns to the data but I used this to play around with the data and see the\n",
    "    results of the tfidf vectorizer\n",
    "    '''\n",
    "\n",
    "    X_train = apply_cleaning(X_train)\n",
    "    # add tf-idfs columns\n",
    "    tfidf = TfidfVectorizer(min_df = 30)\n",
    "    tfidf_result = tfidf.fit_transform(X_train).toarray()\n",
    "    tfidf_df = pd.DataFrame(tfidf_result, columns = tfidf.get_feature_names_out())\n",
    "    tfidf_df.columns = [\"word_\" + str(x) for x in tfidf_df.columns]\n",
    "    tfidf_df.index = X_train.index\n",
    "    X_train = pd.concat([X_train, tfidf_df], axis=1)\n",
    "    X_train.drop(columns = ['sentences'], inplace = True)\n",
    "    \n",
    "    return X_train\n",
    "\n",
    "def dict2text(dicti):\n",
    "    '''\n",
    "    This function is used to convert the dictionary of parameters to a string\n",
    "    used for GridsearchCV outputs to be saved in a csv file and to be used later \n",
    "    on project.\n",
    "    '''\n",
    "    text = ''\n",
    "    for key, value in dicti.items():\n",
    "        text += str(key) + '=' + str(value) + ' '\n",
    "    return text\n",
    "\n",
    "def format_params(params_str):\n",
    "    '''\n",
    "    I captured some differences between the parameters of the GridsearchCV output\n",
    "    to standardize it and make it easy to be used later on the project.\n",
    "    '''\n",
    "    # Remove the opening and closing braces and quotes\n",
    "    params_str = params_str.replace(\"{\", \"\").replace(\"}\", \"\").replace(\"'\", \"\")\n",
    "\n",
    "    # Replace commas with spaces\n",
    "    params_str = params_str.replace(\", \", \" \")\n",
    "\n",
    "    # Replace colons with equals signs\n",
    "    params_str = params_str.replace(\":\", \"=\")\n",
    "\n",
    "    # Remove spaces around equals signs\n",
    "    params_str = params_str.replace(\"= \", \"=\").replace(\" =\", \"=\")\n",
    "\n",
    "    return params_str\n",
    "\n",
    "def evaluate_roc(probs, y_true):\n",
    "    \"\"\"\n",
    "    - Print AUC and accuracy on the test set\n",
    "    - Plot ROC\n",
    "    @params    probs (np.array): an array of predicted probabilities with shape (len(y_true), 2)\n",
    "    @params    y_true (np.array): an array of the true values with shape (len(y_true),)\n",
    "    \"\"\"\n",
    "    preds = probs[:, 1]\n",
    "    fpr, tpr, threshold = roc_curve(y_true, preds)\n",
    "    roc_auc = auc(fpr, tpr)\n",
    "    print(f'AUC: {roc_auc:.4f}')\n",
    "       \n",
    "    # Get accuracy over the test set\n",
    "    y_pred = np.where(preds >= 0.5, 1, 0)\n",
    "    accuracy = accuracy_score(y_true, y_pred)\n",
    "    print(f'Accuracy: {accuracy*100:.2f}%')\n",
    "    \n",
    "    # Plot ROC AUC\n",
    "    plt.title('Receiver Operating Characteristic')\n",
    "    plt.plot(fpr, tpr, 'b', label = 'AUC = %0.2f' % roc_auc)\n",
    "    plt.legend(loc = 'lower right')\n",
    "    plt.plot([0, 1], [0, 1],'r--')\n",
    "    plt.xlim([0, 1])\n",
    "    plt.ylim([0, 1])\n",
    "    plt.ylabel('True Positive Rate')\n",
    "    plt.xlabel('False Positive Rate')\n",
    "    plt.show()\n",
    "\n",
    "def roc_auc(test, y_pred):\n",
    "    # Assuming y_true contains the true labels (0 or 1) and y_pred contains the predicted probabilities for the positive class\n",
    "    fpr, tpr, thresholds = roc_curve(test.values, y_pred)\n",
    "    roc_auc = auc(fpr, tpr)\n",
    "\n",
    "    # Plotting the ROC curve\n",
    "    plt.plot(fpr, tpr, label='ROC curve (AUC = %0.2f)' % roc_auc)\n",
    "    plt.plot([0, 1], [0, 1], 'k--')  # Random guess line\n",
    "    plt.xlabel('False Positive Rate')\n",
    "    plt.ylabel('True Positive Rate')\n",
    "    plt.title('Receiver Operating Characteristic')\n",
    "    plt.legend(loc='lower right')\n",
    "    plt.show()\n",
    "\n",
    "def review_to_vector(review, word_embedding_model):\n",
    "    vectors = []\n",
    "    for word in review:\n",
    "        if word in word_embedding_model.wv:\n",
    "            vectors.append(word_embedding_model.wv[word])\n",
    "    \n",
    "    if len(vectors) > 0:\n",
    "        return np.mean(vectors, axis=0)\n",
    "    else:\n",
    "        return np.zeros(word_embedding_model.vector_size)"
   ]
  },
  {
   "attachments": {},
   "cell_type": "markdown",
   "metadata": {},
   "source": [
    "##### As a baseline model Naive Bayes is the perfect model. It is time efficient and good performing. Also there are not much parameters to play around so we are able to focus on feature creation phase. "
   ]
  },
  {
   "cell_type": "code",
   "execution_count": 3,
   "metadata": {},
   "outputs": [],
   "source": [
    "train = pd.read_csv(\"train_data_400k_randomsample.csv\")\n",
    "train[\"sentences\"] = apply_cleaning(train[\"sentences\"])"
   ]
  },
  {
   "cell_type": "code",
   "execution_count": 4,
   "metadata": {},
   "outputs": [],
   "source": [
    "#create the word embeddings\n",
    "sentences = train[\"sentences\"].values  # List of sentences or list of word lists\n",
    "model = Word2Vec(sentences, vector_size=100, window=5, min_count=1)"
   ]
  },
  {
   "cell_type": "code",
   "execution_count": 5,
   "metadata": {},
   "outputs": [
    {
     "data": {
      "text/plain": [
       "[('great', 0.8321499824523926),\n",
       " ('decent', 0.7864553332328796),\n",
       " ('bad', 0.747329831123352),\n",
       " ('ok', 0.7302947044372559),\n",
       " ('nice', 0.6912297010421753),\n",
       " ('okay', 0.6786788105964661),\n",
       " ('excellent', 0.6511772871017456),\n",
       " ('like', 0.6181908249855042),\n",
       " ('solid', 0.6093428730964661),\n",
       " ('however', 0.5964057445526123)]"
      ]
     },
     "execution_count": 5,
     "metadata": {},
     "output_type": "execute_result"
    }
   ],
   "source": [
    "model.wv.similar_by_word(\"good\")"
   ]
  },
  {
   "cell_type": "code",
   "execution_count": null,
   "metadata": {},
   "outputs": [
    {
     "data": {
      "text/plain": [
       "[('terrible', 0.7627414464950562),\n",
       " ('horrible', 0.7502744793891907),\n",
       " ('good', 0.7465962171554565),\n",
       " ('awful', 0.709083616733551),\n",
       " ('lame', 0.6495473384857178),\n",
       " ('lousy', 0.6475998759269714),\n",
       " ('poor', 0.6453679203987122),\n",
       " ('ok', 0.6373372077941895),\n",
       " ('crappy', 0.6332535147666931),\n",
       " ('decent', 0.6305558681488037)]"
      ]
     },
     "execution_count": 6,
     "metadata": {},
     "output_type": "execute_result"
    }
   ],
   "source": [
    "model.wv.similar_by_word(\"bad\")"
   ]
  },
  {
   "attachments": {},
   "cell_type": "markdown",
   "metadata": {},
   "source": [
    "#### Trying different settings of parameters. We couldn't use the embeddings in a gridsearch pipeline so we created the code cells below to manually implement the hyperparameter tunning phase. Our kernel crashed several times, because of that we put the outputs into markdown cells below. Due to kernel crashes, other cells are continues the param settings where the code left before crash. Some kernels crashed before evaluating some parameters we didn't continue training it since the some of the results were not even close to competing with best parameter setting obtained. This time fixed train validation splits had been used due to embedding creation difficulties and kernel crashes."
   ]
  },
  {
   "cell_type": "code",
   "execution_count": 12,
   "metadata": {},
   "outputs": [
    {
     "name": "stdout",
     "output_type": "stream",
     "text": [
      "Embedding size: 300 / Window size: 3 / Min count: 1\n",
      "SVM regularization parameter: 0.1\n",
      "Validation score: 0.878175\n",
      "SVM regularization parameter: 1\n"
     ]
    },
    {
     "name": "stderr",
     "output_type": "stream",
     "text": [
      "/home/ege/miniconda3/envs/dataminingv/lib/python3.10/site-packages/sklearn/svm/_base.py:1225: ConvergenceWarning: Liblinear failed to converge, increase the number of iterations.\n",
      "  warnings.warn(\n"
     ]
    },
    {
     "name": "stdout",
     "output_type": "stream",
     "text": [
      "Validation score: 0.8782\n",
      "SVM regularization parameter: 10\n"
     ]
    },
    {
     "name": "stderr",
     "output_type": "stream",
     "text": [
      "/home/ege/miniconda3/envs/dataminingv/lib/python3.10/site-packages/sklearn/svm/_base.py:1225: ConvergenceWarning: Liblinear failed to converge, increase the number of iterations.\n",
      "  warnings.warn(\n"
     ]
    },
    {
     "name": "stdout",
     "output_type": "stream",
     "text": [
      "Validation score: 0.875125\n",
      "Embedding size: 300 / Window size: 3 / Min count: 5\n",
      "SVM regularization parameter: 0.1\n",
      "Validation score: 0.878525\n",
      "SVM regularization parameter: 1\n"
     ]
    },
    {
     "name": "stderr",
     "output_type": "stream",
     "text": [
      "/home/ege/miniconda3/envs/dataminingv/lib/python3.10/site-packages/sklearn/svm/_base.py:1225: ConvergenceWarning: Liblinear failed to converge, increase the number of iterations.\n",
      "  warnings.warn(\n"
     ]
    },
    {
     "name": "stdout",
     "output_type": "stream",
     "text": [
      "Validation score: 0.8785\n",
      "SVM regularization parameter: 10\n"
     ]
    },
    {
     "name": "stderr",
     "output_type": "stream",
     "text": [
      "/home/ege/miniconda3/envs/dataminingv/lib/python3.10/site-packages/sklearn/svm/_base.py:1225: ConvergenceWarning: Liblinear failed to converge, increase the number of iterations.\n",
      "  warnings.warn(\n"
     ]
    },
    {
     "name": "stdout",
     "output_type": "stream",
     "text": [
      "Validation score: 0.8786\n",
      "Embedding size: 300 / Window size: 7 / Min count: 1\n",
      "SVM regularization parameter: 0.1\n",
      "Validation score: 0.88205\n",
      "SVM regularization parameter: 1\n"
     ]
    },
    {
     "name": "stderr",
     "output_type": "stream",
     "text": [
      "/home/ege/miniconda3/envs/dataminingv/lib/python3.10/site-packages/sklearn/svm/_base.py:1225: ConvergenceWarning: Liblinear failed to converge, increase the number of iterations.\n",
      "  warnings.warn(\n"
     ]
    },
    {
     "name": "stdout",
     "output_type": "stream",
     "text": [
      "Validation score: 0.88195\n",
      "SVM regularization parameter: 10\n"
     ]
    },
    {
     "name": "stderr",
     "output_type": "stream",
     "text": [
      "/home/ege/miniconda3/envs/dataminingv/lib/python3.10/site-packages/sklearn/svm/_base.py:1225: ConvergenceWarning: Liblinear failed to converge, increase the number of iterations.\n",
      "  warnings.warn(\n"
     ]
    },
    {
     "name": "stdout",
     "output_type": "stream",
     "text": [
      "Validation score: 0.84475\n",
      "Embedding size: 300 / Window size: 7 / Min count: 5\n",
      "SVM regularization parameter: 0.1\n"
     ]
    },
    {
     "name": "stderr",
     "output_type": "stream",
     "text": [
      "/home/ege/miniconda3/envs/dataminingv/lib/python3.10/site-packages/sklearn/svm/_base.py:1225: ConvergenceWarning: Liblinear failed to converge, increase the number of iterations.\n",
      "  warnings.warn(\n"
     ]
    },
    {
     "name": "stdout",
     "output_type": "stream",
     "text": [
      "Validation score: 0.882725\n",
      "SVM regularization parameter: 1\n"
     ]
    },
    {
     "name": "stderr",
     "output_type": "stream",
     "text": [
      "/home/ege/miniconda3/envs/dataminingv/lib/python3.10/site-packages/sklearn/svm/_base.py:1225: ConvergenceWarning: Liblinear failed to converge, increase the number of iterations.\n",
      "  warnings.warn(\n"
     ]
    },
    {
     "name": "stdout",
     "output_type": "stream",
     "text": [
      "Validation score: 0.882875\n",
      "SVM regularization parameter: 10\n",
      "Validation score: 0.881\n",
      "Best embedding size: 300\n",
      "Best window size: 7\n",
      "Best min count: 5\n",
      "Best SVM parameters: {'C': 1}\n",
      "Best score: 0.882875\n"
     ]
    },
    {
     "name": "stderr",
     "output_type": "stream",
     "text": [
      "/home/ege/miniconda3/envs/dataminingv/lib/python3.10/site-packages/sklearn/svm/_base.py:1225: ConvergenceWarning: Liblinear failed to converge, increase the number of iterations.\n",
      "  warnings.warn(\n"
     ]
    }
   ],
   "source": [
    "# Split the data into training and validation sets\n",
    "X_train, X_val, y_train, y_val = train_test_split(train[\"sentences\"], train[\"labels\"], test_size=0.1, random_state=42)\n",
    "\n",
    "sentences = X_train.values\n",
    "X_train = X_train\n",
    "y_train = y_train\n",
    "X_val = X_val\n",
    "y_val = y_val\n",
    "\n",
    "# Define the hyperparameters to tune\n",
    "embedding_sizes = [300]\n",
    "window_sizes = [3, 7]\n",
    "min_count_values = [1, 5]\n",
    "svm_C_values = [0.1, 1, 10]\n",
    "\n",
    "best_score = 0\n",
    "best_embedding_size = None\n",
    "best_window_size = None\n",
    "best_min_count = None\n",
    "best_svm_params = {}\n",
    "\n",
    "# Loop over different hyperparameter combinations for Word2Vec\n",
    "for embedding_size in embedding_sizes:\n",
    "    for window_size in window_sizes:\n",
    "        for min_count in min_count_values:\n",
    "            print(f'Embedding size: {embedding_size} / Window size: {window_size} / Min count: {min_count}')\n",
    "            \n",
    "            # Train the Word2Vec model\n",
    "            model = Word2Vec(sentences, vector_size=embedding_size, window=window_size, min_count=min_count)\n",
    "\n",
    "            X_train_vectors = np.array([review_to_vector(review, model) for review in X_train])\n",
    "            X_val_vectors = np.array([review_to_vector(review, model) for review in X_val])\n",
    "            \n",
    "            # Perform hyperparameter tuning for SVM\n",
    "            for C in svm_C_values:\n",
    "                print(f'SVM regularization parameter: {C}')\n",
    "                svm = LinearSVC(C=C)\n",
    "                svm.fit(X_train_vectors, y_train)\n",
    "                val_score = accuracy_score(y_val, svm.predict(X_val_vectors))\n",
    "                print(f'Validation score: {val_score}')\n",
    "                if val_score > best_score:\n",
    "                        best_score = val_score\n",
    "                        best_embedding_size = embedding_size\n",
    "                        best_window_size = window_size\n",
    "                        best_min_count = min_count\n",
    "                        best_svm_params['C'] = C\n",
    "\n",
    "# Print the best hyperparameters and the corresponding score\n",
    "print(\"Best embedding size:\", best_embedding_size)\n",
    "print(\"Best window size:\", best_window_size)\n",
    "print(\"Best min count:\", best_min_count)\n",
    "print(\"Best SVM parameters:\", best_svm_params)\n",
    "print(\"Best score:\", best_score)"
   ]
  },
  {
   "attachments": {},
   "cell_type": "markdown",
   "metadata": {},
   "source": [
    "Embedding size: 300 / Window size: 3 / Min count: 1\n",
    "SVM regularization parameter: 0.1\n",
    "Validation score: 0.878175\n",
    "SVM regularization parameter: 1\n",
    "/home/ege/miniconda3/envs/dataminingv/lib/python3.10/site-packages/sklearn/svm/_base.py:1225: ConvergenceWarning: Liblinear failed to converge, increase the number of iterations.\n",
    "  warnings.warn(\n",
    "Validation score: 0.8782\n",
    "SVM regularization parameter: 10\n",
    "/home/ege/miniconda3/envs/dataminingv/lib/python3.10/site-packages/sklearn/svm/_base.py:1225: ConvergenceWarning: Liblinear failed to converge, increase the number of iterations.\n",
    "  warnings.warn(\n",
    "Validation score: 0.875125\n",
    "Embedding size: 300 / Window size: 3 / Min count: 5\n",
    "SVM regularization parameter: 0.1\n",
    "Validation score: 0.878525\n",
    "SVM regularization parameter: 1\n",
    "/home/ege/miniconda3/envs/dataminingv/lib/python3.10/site-packages/sklearn/svm/_base.py:1225: ConvergenceWarning: Liblinear failed to converge, increase the number of iterations.\n",
    "  warnings.warn(\n",
    "Validation score: 0.8785\n",
    "SVM regularization parameter: 10\n",
    "/home/ege/miniconda3/envs/dataminingv/lib/python3.10/site-packages/sklearn/svm/_base.py:1225: ConvergenceWarning: Liblinear failed to converge, increase the number of iterations.\n",
    "  warnings.warn(\n",
    "Validation score: 0.8786\n",
    "Embedding size: 300 / Window size: 7 / Min count: 1\n",
    "SVM regularization parameter: 0.1\n",
    "Validation score: 0.88205\n",
    "SVM regularization parameter: 1\n",
    "/home/ege/miniconda3/envs/dataminingv/lib/python3.10/site-packages/sklearn/svm/_base.py:1225: ConvergenceWarning: Liblinear failed to converge, increase the number of iterations.\n",
    "  warnings.warn(\n",
    "Validation score: 0.88195\n",
    "SVM regularization parameter: 10\n",
    "/home/ege/miniconda3/envs/dataminingv/lib/python3.10/site-packages/sklearn/svm/_base.py:1225: ConvergenceWarning: Liblinear failed to converge, increase the number of iterations.\n",
    "  warnings.warn(\n",
    "Validation score: 0.84475\n",
    "Embedding size: 300 / Window size: 7 / Min count: 5\n",
    "SVM regularization parameter: 0.1\n",
    "/home/ege/miniconda3/envs/dataminingv/lib/python3.10/site-packages/sklearn/svm/_base.py:1225: ConvergenceWarning: Liblinear failed to converge, increase the number of iterations.\n",
    "  warnings.warn(\n",
    "Validation score: 0.882725\n",
    "SVM regularization parameter: 1\n",
    "/home/ege/miniconda3/envs/dataminingv/lib/python3.10/site-packages/sklearn/svm/_base.py:1225: ConvergenceWarning: Liblinear failed to converge, increase the number of iterations.\n",
    "  warnings.warn(\n",
    "Validation score: 0.882875\n",
    "SVM regularization parameter: 10\n",
    "Validation score: 0.881\n",
    "Best embedding size: 300\n",
    "Best window size: 7\n",
    "Best min count: 5\n",
    "Best SVM parameters: {'C': 1}\n",
    "Best score: 0.882875\n",
    "/home/ege/miniconda3/envs/dataminingv/lib/python3.10/site-packages/sklearn/svm/_base.py:1225: ConvergenceWarning: Liblinear failed to converge, increase the number of iterations.\n",
    "  warnings.warn("
   ]
  },
  {
   "cell_type": "code",
   "execution_count": null,
   "metadata": {},
   "outputs": [],
   "source": [
    "# Split the data into training and validation sets\n",
    "X_train, X_val, y_train, y_val = train_test_split(train[\"sentences\"], train[\"labels\"], test_size=0.1, random_state=42)\n",
    "\n",
    "sentences = X_train.values\n",
    "X_train = X_train\n",
    "y_train = y_train\n",
    "X_val = X_val\n",
    "y_val = y_val\n",
    "\n",
    "# Define the hyperparameters to tune\n",
    "embedding_sizes = [300]\n",
    "window_sizes = [3, 7]\n",
    "min_count_values = [1, 5]\n",
    "svm_C_values = [0.1, 1, 10]\n",
    "\n",
    "best_score = 0\n",
    "best_embedding_size = None\n",
    "best_window_size = None\n",
    "best_min_count = None\n",
    "best_svm_params = {}\n",
    "\n",
    "# Loop over different hyperparameter combinations for Word2Vec\n",
    "for embedding_size in embedding_sizes:\n",
    "    for window_size in window_sizes:\n",
    "        for min_count in min_count_values:\n",
    "            print(f'Embedding size: {embedding_size} / Window size: {window_size} / Min count: {min_count}')\n",
    "            \n",
    "            # Train the Word2Vec model\n",
    "            model = Word2Vec(sentences, vector_size=embedding_size, window=window_size, min_count=min_count)\n",
    "\n",
    "            X_train_vectors = np.array([review_to_vector(review, model) for review in X_train])\n",
    "            X_val_vectors = np.array([review_to_vector(review, model) for review in X_val])\n",
    "            \n",
    "            # Perform hyperparameter tuning for SVM\n",
    "            for C in svm_C_values:\n",
    "                print(f'SVM regularization parameter: {C}')\n",
    "                svm = LinearSVC(C=C, penalty='l1', dual=False)\n",
    "                svm.fit(X_train_vectors, y_train)\n",
    "                val_score = accuracy_score(y_val, svm.predict(X_val_vectors))\n",
    "                print(f'Validation score: {val_score}')\n",
    "                if val_score > best_score:\n",
    "                        best_score = val_score\n",
    "                        best_embedding_size = embedding_size\n",
    "                        best_window_size = window_size\n",
    "                        best_min_count = min_count\n",
    "                        best_svm_params['C'] = C\n",
    "\n",
    "# Print the best hyperparameters and the corresponding score\n",
    "print(\"Best embedding size:\", best_embedding_size)\n",
    "print(\"Best window size:\", best_window_size)\n",
    "print(\"Best min count:\", best_min_count)\n",
    "print(\"Best SVM parameters:\", best_svm_params)\n",
    "print(\"Best score:\", best_score)"
   ]
  },
  {
   "attachments": {},
   "cell_type": "markdown",
   "metadata": {},
   "source": [
    "Embedding size: 100 / Window size: 3 / Min count: 1\n",
    "\n",
    "SVM regularization parameter: 0.1\n",
    "Validation score: 0.864925\n",
    "\n",
    "SVM regularization parameter: 1\n",
    "Validation score: 0.865025\n",
    "\n",
    "SVM regularization parameter: 10\n",
    "Validation score: 0.865025\n",
    "\n",
    "Embedding size: 100 / Window size: 3 / Min count: 5\n",
    "SVM regularization parameter: 0.1\n",
    "Validation score: 0.864825\n",
    "\n",
    "SVM regularization parameter: 1\n",
    "Validation score: 0.864475\n",
    "\n",
    "SVM regularization parameter: 10\n",
    "Validation score: 0.864425\n",
    "\n",
    "Embedding size: 100 / Window size: 7 / Min count: 1\n",
    "SVM regularization parameter: 0.1\n",
    "Validation score: 0.8725\n",
    "\n",
    "SVM regularization parameter: 1\n",
    "Validation score: 0.872425\n",
    "\n",
    "SVM regularization parameter: 10\n",
    "Validation score: 0.872375\n",
    "\n",
    "Embedding size: 100 / Window size: 7 / Min count: 5\n",
    "SVM regularization parameter: 0.1\n",
    "Validation score: 0.874\n",
    "\n",
    "SVM regularization parameter: 1\n",
    "Validation score: 0.8741\n",
    "\n",
    "SVM regularization parameter: 10\n",
    "Validation score: 0.87405\n",
    "\n",
    "Embedding size: 300 / Window size: 3 / Min count: 1\n",
    "SVM regularization parameter: 0.1"
   ]
  },
  {
   "cell_type": "code",
   "execution_count": null,
   "metadata": {},
   "outputs": [],
   "source": [
    "# Split the data into training and validation sets\n",
    "X_train, X_val, y_train, y_val = train_test_split(train[\"sentences\"], train[\"labels\"], test_size=0.1, random_state=42)\n",
    "\n",
    "sentences = X_train.values\n",
    "X_train = X_train\n",
    "y_train = y_train\n",
    "X_val = X_val\n",
    "y_val = y_val\n",
    "\n",
    "# Define the hyperparameters to tune\n",
    "embedding_sizes = [100, 300]\n",
    "window_sizes = [3, 7]\n",
    "min_count_values = [1, 5]\n",
    "svm_C_values = [0.1, 1, 10]\n",
    "\n",
    "best_score = 0\n",
    "best_embedding_size = None\n",
    "best_window_size = None\n",
    "best_min_count = None\n",
    "best_svm_params = {}\n",
    "\n",
    "# Loop over different hyperparameter combinations for Word2Vec\n",
    "for embedding_size in embedding_sizes:\n",
    "    for window_size in window_sizes:\n",
    "        for min_count in min_count_values:\n",
    "            print(f'Embedding size: {embedding_size} / Window size: {window_size} / Min count: {min_count}')\n",
    "            \n",
    "            # Train the Word2Vec model\n",
    "            model = Word2Vec(sentences, vector_size=embedding_size, window=window_size, min_count=min_count)\n",
    "\n",
    "            X_train_vectors = np.array([review_to_vector(review, model) for review in X_train])\n",
    "            X_val_vectors = np.array([review_to_vector(review, model) for review in X_val])\n",
    "            \n",
    "            # Perform hyperparameter tuning for SVM\n",
    "            for C in svm_C_values:\n",
    "                print(f'SVM regularization parameter: {C}')\n",
    "                svm = LinearSVC(C=C, penalty='l2', dual=False, loss='hinge')\n",
    "                svm.fit(X_train_vectors, y_train)\n",
    "                val_score = accuracy_score(y_val, svm.predict(X_val_vectors))\n",
    "                print(f'Validation score: {val_score}')\n",
    "                if val_score > best_score:\n",
    "                        best_score = val_score\n",
    "                        best_embedding_size = embedding_size\n",
    "                        best_window_size = window_size\n",
    "                        best_min_count = min_count\n",
    "                        best_svm_params['C'] = C\n",
    "\n",
    "# Print the best hyperparameters and the corresponding score\n",
    "print(\"Best embedding size:\", best_embedding_size)\n",
    "print(\"Best window size:\", best_window_size)\n",
    "print(\"Best min count:\", best_min_count)\n",
    "print(\"Best SVM parameters:\", best_svm_params)\n",
    "print(\"Best score:\", best_score)"
   ]
  },
  {
   "cell_type": "code",
   "execution_count": null,
   "metadata": {},
   "outputs": [
    {
     "name": "stdout",
     "output_type": "stream",
     "text": [
      "Embedding size: 300 / Window size: 3 / Min count: 1\n",
      "SVM regularization parameter: 0.1\n",
      "Validation score: 0.5742574257425742\n",
      "SVM regularization parameter: 1\n",
      "Validation score: 0.5841584158415841\n",
      "SVM regularization parameter: 10\n",
      "Validation score: 0.6831683168316832\n",
      "Embedding size: 300 / Window size: 3 / Min count: 5\n",
      "SVM regularization parameter: 0.1\n",
      "Validation score: 0.5742574257425742\n",
      "SVM regularization parameter: 1\n",
      "Validation score: 0.5742574257425742\n",
      "SVM regularization parameter: 10\n",
      "Validation score: 0.5148514851485149\n",
      "Embedding size: 300 / Window size: 7 / Min count: 1\n",
      "SVM regularization parameter: 0.1\n",
      "Validation score: 0.5742574257425742\n",
      "SVM regularization parameter: 1\n",
      "Validation score: 0.5742574257425742\n",
      "SVM regularization parameter: 10\n",
      "Validation score: 0.5742574257425742\n",
      "Embedding size: 300 / Window size: 7 / Min count: 5\n",
      "SVM regularization parameter: 0.1\n",
      "Validation score: 0.5742574257425742\n",
      "SVM regularization parameter: 1\n",
      "Validation score: 0.5742574257425742\n",
      "SVM regularization parameter: 10\n",
      "Validation score: 0.594059405940594\n",
      "Best embedding size: 300\n",
      "Best window size: 3\n",
      "Best min count: 1\n",
      "Best SVM parameters: {'C': 10}\n",
      "Best score: 0.6831683168316832\n"
     ]
    }
   ],
   "source": [
    "# Split the data into training and validation sets\n",
    "X_train, X_val, y_train, y_val = train_test_split(train[\"sentences\"], train[\"labels\"], test_size=0.1, random_state=42)\n",
    "\n",
    "sentences = X_train.values\n",
    "X_train = X_train\n",
    "y_train = y_train\n",
    "X_val = X_val\n",
    "y_val = y_val\n",
    "\n",
    "# Define the hyperparameters to tune\n",
    "embedding_sizes = [300]\n",
    "window_sizes = [3, 7]\n",
    "min_count_values = [1, 5]\n",
    "svm_C_values = [0.1, 1, 10]\n",
    "\n",
    "best_score = 0\n",
    "best_embedding_size = None\n",
    "best_window_size = None\n",
    "best_min_count = None\n",
    "best_svm_params = {}\n",
    "\n",
    "# Loop over different hyperparameter combinations for Word2Vec\n",
    "for embedding_size in embedding_sizes:\n",
    "    for window_size in window_sizes:\n",
    "        for min_count in min_count_values:\n",
    "            print(f'Embedding size: {embedding_size} / Window size: {window_size} / Min count: {min_count}')\n",
    "            \n",
    "            # Train the Word2Vec model\n",
    "            model = Word2Vec(sentences, vector_size=embedding_size, window=window_size, min_count=min_count)\n",
    "\n",
    "            X_train_vectors = np.array([review_to_vector(review, model) for review in X_train])\n",
    "            X_val_vectors = np.array([review_to_vector(review, model) for review in X_val])\n",
    "            \n",
    "            # Perform hyperparameter tuning for SVM\n",
    "            for C in svm_C_values:\n",
    "                print(f'SVM regularization parameter: {C}')\n",
    "                svm = SVC(C=C, kernel='rbf')\n",
    "                svm.fit(X_train_vectors, y_train)\n",
    "                val_score = accuracy_score(y_val, svm.predict(X_val_vectors))\n",
    "                print(f'Validation score: {val_score}')\n",
    "                if val_score > best_score:\n",
    "                        best_score = val_score\n",
    "                        best_embedding_size = embedding_size\n",
    "                        best_window_size = window_size\n",
    "                        best_min_count = min_count\n",
    "                        best_svm_params['C'] = C\n",
    "\n",
    "# Print the best hyperparameters and the corresponding score\n",
    "print(\"Best embedding size:\", best_embedding_size)\n",
    "print(\"Best window size:\", best_window_size)\n",
    "print(\"Best min count:\", best_min_count)\n",
    "print(\"Best SVM parameters:\", best_svm_params)\n",
    "print(\"Best score:\", best_score)"
   ]
  },
  {
   "attachments": {},
   "cell_type": "markdown",
   "metadata": {},
   "source": [
    "#### Let's try our best performing parameter \n",
    "\n",
    "Best embedding size: 300\n",
    "Best window size: 7\n",
    "Best min count: 5\n",
    "Best SVM parameters: {'C': 1}\n",
    "(l2, square hinge)\n",
    "Best score: 0.882875\n",
    "\n",
    "Note: This parameter setting is the best one for the tf-idf svm as well!"
   ]
  },
  {
   "cell_type": "code",
   "execution_count": 3,
   "metadata": {},
   "outputs": [
    {
     "name": "stdout",
     "output_type": "stream",
     "text": [
      "Accuracy score: 0.8841136363636364\n",
      "F1 score: 0.8837039571216787\n",
      "ROC AUC score: 0.8841102212204244\n",
      "Precision score: 0.8847734746072342\n",
      "Recall score: 0.8826370221877989\n",
      "Prediction probabilities:\n",
      "[ 0.46682757 -0.70665679 -1.62412939 ...  2.76850301 -1.93664407\n",
      "  0.45875112]\n"
     ]
    },
    {
     "name": "stderr",
     "output_type": "stream",
     "text": [
      "/home/ege/miniconda3/envs/dataminingv/lib/python3.10/site-packages/sklearn/svm/_base.py:1225: ConvergenceWarning: Liblinear failed to converge, increase the number of iterations.\n",
      "  warnings.warn(\n"
     ]
    }
   ],
   "source": [
    "train = pd.read_csv(\"train_data_400k_randomsample.csv\")\n",
    "train[\"sentences\"] = apply_cleaning(train[\"sentences\"])\n",
    "sentences = train[\"sentences\"].values\n",
    "X_train = train[\"sentences\"]\n",
    "test= pd.read_csv(\"test_data_44k.csv\")\n",
    "test[\"sentences\"] = apply_cleaning(test[\"sentences\"])\n",
    "X_test = test[\"sentences\"]\n",
    "y_test = test['labels']\n",
    "y_train = train[\"labels\"]\n",
    "\n",
    "# Train the Word2Vec model\n",
    "model = Word2Vec(sentences, vector_size=300, window=7, min_count=5)\n",
    "\n",
    "X_train_vectors = np.array([review_to_vector(review, model) for review in X_train])\n",
    "X_test_vectors = np.array([review_to_vector(review, model) for review in X_test])\n",
    "\n",
    "# Train the svm model\n",
    "svm = LinearSVC(C=1, penalty='l2', loss=\"squared_hinge\")\n",
    "svm.fit(X_train_vectors, y_train)\n",
    "\n",
    "# Evaluate the model\n",
    "y_pred = svm.predict(X_test_vectors)\n",
    "y_pred_probs = svm.decision_function(X_test_vectors)  # Prediction probabilities\n",
    "\n",
    "# Print evaluation metrics\n",
    "accuracy = accuracy_score(y_test, y_pred)\n",
    "f1 = f1_score(y_test, y_pred)\n",
    "roc_auc = roc_auc_score(y_test, y_pred)\n",
    "precision = precision_score(y_test, y_pred)\n",
    "recall = recall_score(y_test, y_pred)\n",
    "\n",
    "print(\"Accuracy score:\", accuracy)\n",
    "print(\"F1 score:\", f1)\n",
    "print(\"ROC AUC score:\", roc_auc)\n",
    "print(\"Precision score:\", precision)\n",
    "print(\"Recall score:\", recall)\n",
    "\n",
    "# Print predicted probabilities\n",
    "print(\"Prediction probabilities:\")\n",
    "print(y_pred_probs)"
   ]
  },
  {
   "cell_type": "code",
   "execution_count": 4,
   "metadata": {},
   "outputs": [],
   "source": [
    "pd.DataFrame(y_pred).to_csv(\"y_pred_embeddings.csv\")"
   ]
  },
  {
   "cell_type": "code",
   "execution_count": 23,
   "metadata": {},
   "outputs": [
    {
     "name": "stdout",
     "output_type": "stream",
     "text": [
      "AUC: 0.9510\n"
     ]
    },
    {
     "data": {
      "image/png": "[encoded data removed]",
      "text/plain": [
       "<Figure size 640x480 with 1 Axes>"
      ]
     },
     "metadata": {},
     "output_type": "display_data"
    }
   ],
   "source": [
    "def evaluate_roc_probs(probs, y_true):\n",
    "    \"\"\"\n",
    "    - Print AUC and accuracy on the test set\n",
    "    - Plot ROC\n",
    "    @params    probs (np.array): an array of predicted probabilities with shape (len(y_true),)\n",
    "    @params    y_true (np.array): an array of the true values with shape (len(y_true),)\n",
    "    \"\"\"\n",
    "    fpr, tpr, thresholds = roc_curve(y_true, probs)\n",
    "    roc_auc = auc(fpr, tpr)\n",
    "    print(f'AUC: {roc_auc:.4f}')\n",
    "\n",
    "    # Plot ROC AUC\n",
    "    plt.title('Receiver Operating Characteristic')\n",
    "    plt.plot(fpr, tpr, 'b', label='AUC = %0.2f' % roc_auc)\n",
    "    plt.legend(loc='lower right')\n",
    "    plt.plot([0, 1], [0, 1], 'r--')\n",
    "    plt.xlim([0, 1])\n",
    "    plt.ylim([0, 1])\n",
    "    plt.ylabel('True Positive Rate')\n",
    "    plt.xlabel('False Positive Rate')\n",
    "    plt.show()\n",
    "\n",
    "# Evaluate ROC curve\n",
    "evaluate_roc_probs(y_pred_probs, test[\"labels\"].values)"
   ]
  },
  {
   "attachments": {},
   "cell_type": "markdown",
   "metadata": {},
   "source": [
    "#### After selecting the best parameters our model with 400k train data and 44k test data being evaluated. And confusion matrix has been produced. "
   ]
  },
  {
   "attachments": {},
   "cell_type": "markdown",
   "metadata": {},
   "source": [
    "#### Error Analysis"
   ]
  },
  {
   "cell_type": "code",
   "execution_count": 13,
   "metadata": {},
   "outputs": [
    {
     "data": {
      "image/png": "[encoded data removed]",
      "text/plain": [
       "<Figure size 640x480 with 2 Axes>"
      ]
     },
     "metadata": {},
     "output_type": "display_data"
    }
   ],
   "source": [
    "#Show confusion matrix\n",
    "cm = confusion_matrix(test[\"labels\"], y_pred)\n",
    "cm = pd.DataFrame(cm, index=[\"Negative\", \"Positive\"], columns=[\"Negative\", \"Positive\"])\n",
    "sns.heatmap(cm, annot=True, fmt='g', cmap='Blues')\n",
    "plt.xlabel(\"Predicted\")\n",
    "plt.ylabel(\"Actual\")\n",
    "plt.title(\"Confusion Matrix\")\n",
    "plt.show()\n"
   ]
  },
  {
   "cell_type": "code",
   "execution_count": 17,
   "metadata": {},
   "outputs": [
    {
     "data": {
      "text/plain": [
       "<AxesSubplot: xlabel='labels'>"
      ]
     },
     "execution_count": 17,
     "metadata": {},
     "output_type": "execute_result"
    },
    {
     "data": {
      "image/png": "[encoded data removed]",
      "text/plain": [
       "<Figure size 640x480 with 1 Axes>"
      ]
     },
     "metadata": {},
     "output_type": "display_data"
    }
   ],
   "source": [
    "test = pd.read_csv((\"test_data_44k.csv\"))\n",
    "test[\"y_pred\"] = y_pred\n",
    "test[test[\"labels\"] != test[\"y_pred\"]].groupby('labels').count()[\"sentences\"].plot(kind=\"bar\")"
   ]
  },
  {
   "cell_type": "code",
   "execution_count": 18,
   "metadata": {},
   "outputs": [
    {
     "data": {
      "text/html": [
       "<div>\n",
       "<style scoped>\n",
       "    .dataframe tbody tr th:only-of-type {\n",
       "        vertical-align: middle;\n",
       "    }\n",
       "\n",
       "    .dataframe tbody tr th {\n",
       "        vertical-align: top;\n",
       "    }\n",
       "\n",
       "    .dataframe thead th {\n",
       "        text-align: right;\n",
       "    }\n",
       "</style>\n",
       "<table border=\"1\" class=\"dataframe\">\n",
       "  <thead>\n",
       "    <tr style=\"text-align: right;\">\n",
       "      <th></th>\n",
       "      <th>sentences</th>\n",
       "      <th>labels</th>\n",
       "      <th>y_pred</th>\n",
       "    </tr>\n",
       "  </thead>\n",
       "  <tbody>\n",
       "    <tr>\n",
       "      <th>12847</th>\n",
       "      <td>a good book: this book really hit the mark with the right balance of theory and practical application. i've waded through more than a few technical books on tube radio theory and restoration, and this one, though not as detailed as a textbook, is clearly the place to start.however, the section on troubleshooting was extremely limited. experience indicates that after following the steps recommended in the book between 10 and 20 percent of restored radios will still have some type of problem. most individuals learning the process for repairing tube radios will be seeking practical guidance for identifying possible sources of these problems and their potential solutions. maybe troubleshooting will be the subject of mr. mcwhorter's next book.</td>\n",
       "      <td>1</td>\n",
       "      <td>0</td>\n",
       "    </tr>\n",
       "    <tr>\n",
       "      <th>14827</th>\n",
       "      <td>here is just a sample!! check it out!!: i love this album and pray that someone contacts me so that i can get a copy of the cd or even tape! amazon...please get this so that all of us who would like a copy can get it! until then...here is \"feel like going on\" the song![...]</td>\n",
       "      <td>1</td>\n",
       "      <td>1</td>\n",
       "    </tr>\n",
       "    <tr>\n",
       "      <th>18809</th>\n",
       "      <td>still in the box: i don't really know how the product is. after reading more detailed information included with the product, it says not recommended for the pool because the clorine could effect/shorten the product life. it seems that the ad shows the coolaroo shade being used next to the pool. and that's what we bought it for. not sure what to do with them now - still siting in the box next to the door gathering dust.... oh, well. i'm sure its a great product, just not for us.</td>\n",
       "      <td>0</td>\n",
       "      <td>1</td>\n",
       "    </tr>\n",
       "    <tr>\n",
       "      <th>27443</th>\n",
       "      <td>leaves the readers hungry for more.: it's weird really how i got so into this book. one of my friends who just so happened read the book was begging me to read it. now, don't get me wrong i love fantasy stories especially ones that are about these blood suckers but after hearing my friend's summary of it i don't know i just felt uninterested.pffft...boy was i glad my friend's the persisting type. she practically lunged the book at me. so as to not annoy her more, i read her copy of the book and i found myself entralled by it. i could not stop reading it!after finishing it i felt saddened that it was finished. i wanted more! i wanted to know what happened next.i gave the book back to my friend and straight away got myself a copy of twilight. it's really that good. i love it.trust me no matter how 'off' the summary might seem like you would not feel dissatisfied by its contents.</td>\n",
       "      <td>1</td>\n",
       "      <td>0</td>\n",
       "    </tr>\n",
       "    <tr>\n",
       "      <th>29215</th>\n",
       "      <td>emotionally-distant author: for a memoir, the author is very removed from the experiences she writes about. she conveys little if any emotion about what must have been a very lonely and often frightening existance (especially given her age) in a strange land with a mad and eventually abusive husband, a young child who was often extremely sick and with the responsibilites of running a hacienda. although her writing is beautiful at times, the author never really connected with me.</td>\n",
       "      <td>0</td>\n",
       "      <td>1</td>\n",
       "    </tr>\n",
       "  </tbody>\n",
       "</table>\n",
       "</div>"
      ],
      "text/plain": [
       "                                                                                                                                                                                                                                                                                                                                                                                                                                                                                                                                                                                                                                                                                                                                                                                                                                                                                                                       sentences  \\\n",
       "12847                                                                                                                                               a good book: this book really hit the mark with the right balance of theory and practical application. i've waded through more than a few technical books on tube radio theory and restoration, and this one, though not as detailed as a textbook, is clearly the place to start.however, the section on troubleshooting was extremely limited. experience indicates that after following the steps recommended in the book between 10 and 20 percent of restored radios will still have some type of problem. most individuals learning the process for repairing tube radios will be seeking practical guidance for identifying possible sources of these problems and their potential solutions. maybe troubleshooting will be the subject of mr. mcwhorter's next book.   \n",
       "14827                                                                                                                                                                                                                                                                                                                                                                                                                                                                                                                                                                                                                                         here is just a sample!! check it out!!: i love this album and pray that someone contacts me so that i can get a copy of the cd or even tape! amazon...please get this so that all of us who would like a copy can get it! until then...here is \"feel like going on\" the song![...]   \n",
       "18809                                                                                                                                                                                                                                                                                                                                                                                                                         still in the box: i don't really know how the product is. after reading more detailed information included with the product, it says not recommended for the pool because the clorine could effect/shorten the product life. it seems that the ad shows the coolaroo shade being used next to the pool. and that's what we bought it for. not sure what to do with them now - still siting in the box next to the door gathering dust.... oh, well. i'm sure its a great product, just not for us.   \n",
       "27443  leaves the readers hungry for more.: it's weird really how i got so into this book. one of my friends who just so happened read the book was begging me to read it. now, don't get me wrong i love fantasy stories especially ones that are about these blood suckers but after hearing my friend's summary of it i don't know i just felt uninterested.pffft...boy was i glad my friend's the persisting type. she practically lunged the book at me. so as to not annoy her more, i read her copy of the book and i found myself entralled by it. i could not stop reading it!after finishing it i felt saddened that it was finished. i wanted more! i wanted to know what happened next.i gave the book back to my friend and straight away got myself a copy of twilight. it's really that good. i love it.trust me no matter how 'off' the summary might seem like you would not feel dissatisfied by its contents.   \n",
       "29215                                                                                                                                                                                                                                                                                                                                                                                                                        emotionally-distant author: for a memoir, the author is very removed from the experiences she writes about. she conveys little if any emotion about what must have been a very lonely and often frightening existance (especially given her age) in a strange land with a mad and eventually abusive husband, a young child who was often extremely sick and with the responsibilites of running a hacienda. although her writing is beautiful at times, the author never really connected with me.   \n",
       "\n",
       "       labels  y_pred  \n",
       "12847       1       0  \n",
       "14827       1       1  \n",
       "18809       0       1  \n",
       "27443       1       0  \n",
       "29215       0       1  "
      ]
     },
     "execution_count": 18,
     "metadata": {},
     "output_type": "execute_result"
    }
   ],
   "source": [
    "# Select the 5 random observations from the test set where model failed to predict the label correctly\n",
    "pd.set_option('display.max_colwidth', None)\n",
    "# test[test[\"labels\"] != test[\"y_pred\"]].sample(5)\n",
    "indices = [27443, 29215, 14827 ,18809 ,12847]\n",
    "test[test.index.isin(indices)]"
   ]
  },
  {
   "cell_type": "code",
   "execution_count": 1,
   "metadata": {},
   "outputs": [
    {
     "ename": "NameError",
     "evalue": "name 'pd' is not defined",
     "output_type": "error",
     "traceback": [
      "\u001b[0;31m---------------------------------------------------------------------------\u001b[0m",
      "\u001b[0;31mNameError\u001b[0m                                 Traceback (most recent call last)",
      "\u001b[1;32m/home/ege/datamining1/Amazon Reviews/SVM_WordEmbeddings.ipynb Cell 25\u001b[0m in \u001b[0;36m1\n\u001b[0;32m----> <a href='vscode-notebook-cell://wsl%2Bubuntu-22.04/home/ege/datamining1/Amazon%20Reviews/SVM_WordEmbeddings.ipynb#X33sdnNjb2RlLXJlbW90ZQ%3D%3D?line=0'>1</a>\u001b[0m pd\u001b[39m.\u001b[39mset_option(\u001b[39m'\u001b[39m\u001b[39mdisplay.max_colwidth\u001b[39m\u001b[39m'\u001b[39m, \u001b[39mNone\u001b[39;00m)\n\u001b[1;32m      <a href='vscode-notebook-cell://wsl%2Bubuntu-22.04/home/ege/datamining1/Amazon%20Reviews/SVM_WordEmbeddings.ipynb#X33sdnNjb2RlLXJlbW90ZQ%3D%3D?line=1'>2</a>\u001b[0m test[test[\u001b[39m\"\u001b[39m\u001b[39mlabels\u001b[39m\u001b[39m\"\u001b[39m] \u001b[39m!=\u001b[39m test[\u001b[39m\"\u001b[39m\u001b[39my_pred\u001b[39m\u001b[39m\"\u001b[39m]]\u001b[39m.\u001b[39msample(\u001b[39m5\u001b[39m)\n",
      "\u001b[0;31mNameError\u001b[0m: name 'pd' is not defined"
     ]
    }
   ],
   "source": [
    "pd.set_option('display.max_colwidth', None)\n",
    "test[test[\"labels\"] != test[\"y_pred\"]].sample(5)"
   ]
  }
 ],
 "metadata": {
  "kernelspec": {
   "display_name": "python310",
   "language": "python",
   "name": "python3"
  },
  "language_info": {
   "codemirror_mode": {
    "name": "ipython",
    "version": 3
   },
   "file_extension": ".py",
   "mimetype": "text/x-python",
   "name": "python",
   "nbconvert_exporter": "python",
   "pygments_lexer": "ipython3",
   "version": "3.10.6"
  },
  "orig_nbformat": 4
 },
 "nbformat": 4,
 "nbformat_minor": 2
}
